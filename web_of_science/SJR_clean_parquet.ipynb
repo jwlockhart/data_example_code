{
 "cells": [
  {
   "cell_type": "markdown",
   "metadata": {},
   "source": [
    "# Clean SJR data and convert to parquet\n",
    "- Data downloaded from: https://www.scimagojr.com/journalrank.php\n",
    "\n",
    "## setup"
   ]
  },
  {
   "cell_type": "code",
   "execution_count": 1,
   "metadata": {},
   "outputs": [
    {
     "name": "stdout",
     "output_type": "stream",
     "text": [
      "done\n"
     ]
    }
   ],
   "source": [
    "from pyspark.sql import SQLContext\n",
    "#import pandas as pd\n",
    "from pyspark.sql.functions import *\n",
    "import pyspark.sql\n",
    "\n",
    "sqlC = SQLContext(sc)\n",
    "print('done')"
   ]
  },
  {
   "cell_type": "code",
   "execution_count": 2,
   "metadata": {},
   "outputs": [],
   "source": [
    "import pandas as pd\n",
    "import string\n",
    "from collections import Counter\n",
    "import re\n",
    "import os"
   ]
  },
  {
   "cell_type": "markdown",
   "metadata": {},
   "source": [
    "## load and clean journal info"
   ]
  },
  {
   "cell_type": "code",
   "execution_count": 4,
   "metadata": {},
   "outputs": [
    {
     "name": "stdout",
     "output_type": "stream",
     "text": [
      "scimagojr 2007.csv\n",
      "scimagojr 2014.csv\n",
      "scimagojr 2013.csv\n",
      "scimagojr 1999.csv\n",
      "scimagojr 2004.csv\n",
      "scimagojr 2008.csv\n",
      "scimagojr 2006.csv\n",
      "scimagojr 2017.csv\n",
      "scimagojr 2000.csv\n",
      "scimagojr 2002.csv\n",
      "scimagojr 2005.csv\n",
      "scimagojr 2011.csv\n",
      "scimagojr 2015.csv\n",
      "scimagojr 2010.csv\n",
      "scimagojr 2016.csv\n",
      "scimagojr 2012.csv\n",
      "scimagojr 2001.csv\n",
      "scimagojr 2009.csv\n",
      "scimagojr 2003.csv\n"
     ]
    },
    {
     "data": {
      "text/html": [
       "<div>\n",
       "<style scoped>\n",
       "    .dataframe tbody tr th:only-of-type {\n",
       "        vertical-align: middle;\n",
       "    }\n",
       "\n",
       "    .dataframe tbody tr th {\n",
       "        vertical-align: top;\n",
       "    }\n",
       "\n",
       "    .dataframe thead th {\n",
       "        text-align: right;\n",
       "    }\n",
       "</style>\n",
       "<table border=\"1\" class=\"dataframe\">\n",
       "  <thead>\n",
       "    <tr style=\"text-align: right;\">\n",
       "      <th></th>\n",
       "      <th>rank</th>\n",
       "      <th>sourceid</th>\n",
       "      <th>title</th>\n",
       "      <th>type</th>\n",
       "      <th>issn</th>\n",
       "      <th>sjr</th>\n",
       "      <th>sjr_best_quartile</th>\n",
       "      <th>h_index</th>\n",
       "      <th>total_docs_2003</th>\n",
       "      <th>total_docs_3years</th>\n",
       "      <th>total_refs</th>\n",
       "      <th>total_cites_3years</th>\n",
       "      <th>citable_docs_3years</th>\n",
       "      <th>cites__doc_2years</th>\n",
       "      <th>ref__doc</th>\n",
       "      <th>country</th>\n",
       "      <th>publisher</th>\n",
       "      <th>categories</th>\n",
       "      <th>year</th>\n",
       "      <th>quartile</th>\n",
       "    </tr>\n",
       "  </thead>\n",
       "  <tbody>\n",
       "    <tr>\n",
       "      <th>0</th>\n",
       "      <td>1</td>\n",
       "      <td>20651</td>\n",
       "      <td>Annual Review of Immunology</td>\n",
       "      <td>journal</td>\n",
       "      <td>07320582, 15453278</td>\n",
       "      <td>37.995</td>\n",
       "      <td>Q1</td>\n",
       "      <td>274</td>\n",
       "      <td>25</td>\n",
       "      <td>82</td>\n",
       "      <td>5272</td>\n",
       "      <td>4682</td>\n",
       "      <td>81</td>\n",
       "      <td>55.16</td>\n",
       "      <td>210.88</td>\n",
       "      <td>United States</td>\n",
       "      <td>Annual Reviews Inc.</td>\n",
       "      <td>Immunology (Q1); Immunology and Allergy (Q1)</td>\n",
       "      <td>2003</td>\n",
       "      <td>1.0</td>\n",
       "    </tr>\n",
       "    <tr>\n",
       "      <th>1</th>\n",
       "      <td>2</td>\n",
       "      <td>16801</td>\n",
       "      <td>Annual Review of Biochemistry</td>\n",
       "      <td>journal</td>\n",
       "      <td>15454509, 00664154</td>\n",
       "      <td>35.186</td>\n",
       "      <td>Q1</td>\n",
       "      <td>268</td>\n",
       "      <td>25</td>\n",
       "      <td>81</td>\n",
       "      <td>4453</td>\n",
       "      <td>3234</td>\n",
       "      <td>81</td>\n",
       "      <td>39.10</td>\n",
       "      <td>178.12</td>\n",
       "      <td>United States</td>\n",
       "      <td>Annual Reviews Inc.</td>\n",
       "      <td>Biochemistry (Q1)</td>\n",
       "      <td>2003</td>\n",
       "      <td>1.0</td>\n",
       "    </tr>\n",
       "    <tr>\n",
       "      <th>2</th>\n",
       "      <td>3</td>\n",
       "      <td>18434</td>\n",
       "      <td>Cell</td>\n",
       "      <td>journal</td>\n",
       "      <td>00928674, 10974172</td>\n",
       "      <td>28.284</td>\n",
       "      <td>Q1</td>\n",
       "      <td>682</td>\n",
       "      <td>368</td>\n",
       "      <td>1084</td>\n",
       "      <td>14525</td>\n",
       "      <td>29831</td>\n",
       "      <td>1055</td>\n",
       "      <td>26.88</td>\n",
       "      <td>39.47</td>\n",
       "      <td>United States</td>\n",
       "      <td>Cell Press</td>\n",
       "      <td>Biochemistry, Genetics and Molecular Biology (...</td>\n",
       "      <td>2003</td>\n",
       "      <td>1.0</td>\n",
       "    </tr>\n",
       "    <tr>\n",
       "      <th>3</th>\n",
       "      <td>4</td>\n",
       "      <td>29719</td>\n",
       "      <td>Reviews of Modern Physics</td>\n",
       "      <td>journal</td>\n",
       "      <td>00346861, 15390756</td>\n",
       "      <td>26.670</td>\n",
       "      <td>Q1</td>\n",
       "      <td>284</td>\n",
       "      <td>39</td>\n",
       "      <td>95</td>\n",
       "      <td>8816</td>\n",
       "      <td>2945</td>\n",
       "      <td>94</td>\n",
       "      <td>33.25</td>\n",
       "      <td>226.05</td>\n",
       "      <td>United States</td>\n",
       "      <td>American Physical Society</td>\n",
       "      <td>Physics and Astronomy (miscellaneous) (Q1)</td>\n",
       "      <td>2003</td>\n",
       "      <td>1.0</td>\n",
       "    </tr>\n",
       "    <tr>\n",
       "      <th>4</th>\n",
       "      <td>5</td>\n",
       "      <td>18395</td>\n",
       "      <td>Annual Review of Cell and Developmental Biology</td>\n",
       "      <td>book series</td>\n",
       "      <td>15308995, 10810706</td>\n",
       "      <td>24.175</td>\n",
       "      <td>Q1</td>\n",
       "      <td>199</td>\n",
       "      <td>28</td>\n",
       "      <td>73</td>\n",
       "      <td>3891</td>\n",
       "      <td>1866</td>\n",
       "      <td>71</td>\n",
       "      <td>22.63</td>\n",
       "      <td>138.96</td>\n",
       "      <td>United States</td>\n",
       "      <td>Annual Reviews Inc.</td>\n",
       "      <td>Cell Biology (Q1); Developmental Biology (Q1)</td>\n",
       "      <td>2003</td>\n",
       "      <td>1.0</td>\n",
       "    </tr>\n",
       "  </tbody>\n",
       "</table>\n",
       "</div>"
      ],
      "text/plain": [
       "   rank  sourceid                                            title  \\\n",
       "0     1     20651                      Annual Review of Immunology   \n",
       "1     2     16801                    Annual Review of Biochemistry   \n",
       "2     3     18434                                             Cell   \n",
       "3     4     29719                        Reviews of Modern Physics   \n",
       "4     5     18395  Annual Review of Cell and Developmental Biology   \n",
       "\n",
       "          type                issn     sjr sjr_best_quartile  h_index  \\\n",
       "0      journal  07320582, 15453278  37.995                Q1      274   \n",
       "1      journal  15454509, 00664154  35.186                Q1      268   \n",
       "2      journal  00928674, 10974172  28.284                Q1      682   \n",
       "3      journal  00346861, 15390756  26.670                Q1      284   \n",
       "4  book series  15308995, 10810706  24.175                Q1      199   \n",
       "\n",
       "   total_docs_2003  total_docs_3years  total_refs  total_cites_3years  \\\n",
       "0               25                 82        5272                4682   \n",
       "1               25                 81        4453                3234   \n",
       "2              368               1084       14525               29831   \n",
       "3               39                 95        8816                2945   \n",
       "4               28                 73        3891                1866   \n",
       "\n",
       "   citable_docs_3years  cites__doc_2years  ref__doc        country  \\\n",
       "0                   81              55.16    210.88  United States   \n",
       "1                   81              39.10    178.12  United States   \n",
       "2                 1055              26.88     39.47  United States   \n",
       "3                   94              33.25    226.05  United States   \n",
       "4                   71              22.63    138.96  United States   \n",
       "\n",
       "                   publisher  \\\n",
       "0        Annual Reviews Inc.   \n",
       "1        Annual Reviews Inc.   \n",
       "2                 Cell Press   \n",
       "3  American Physical Society   \n",
       "4        Annual Reviews Inc.   \n",
       "\n",
       "                                          categories  year  quartile  \n",
       "0       Immunology (Q1); Immunology and Allergy (Q1)  2003       1.0  \n",
       "1                                  Biochemistry (Q1)  2003       1.0  \n",
       "2  Biochemistry, Genetics and Molecular Biology (...  2003       1.0  \n",
       "3         Physics and Astronomy (miscellaneous) (Q1)  2003       1.0  \n",
       "4      Cell Biology (Q1); Developmental Biology (Q1)  2003       1.0  "
      ]
     },
     "execution_count": 4,
     "metadata": {},
     "output_type": "execute_result"
    }
   ],
   "source": [
    "cols = ['Rank', 'Sourceid', 'Title', 'Type', 'SJR', 'SJR Best Quartile',\n",
    "       'H index', 'Total Cites (3years)', 'Citable Docs. (3years)',\n",
    "       'Cites / Doc. (2years)', 'Country', 'Categories']\n",
    "files = os.listdir('./')\n",
    "for f in files:\n",
    "    if f.endswith('csv'):\n",
    "        print(f)\n",
    "        year = int(f.split(' ')[1].split('.')[0])\n",
    "        df = pd.read_csv('./'+f, sep=';', decimal=',')\n",
    "        df['year'] = year\n",
    "        df['quartile'] = pd.to_numeric(df['SJR Best Quartile'].str[1:], errors='coerse')\n",
    "        df.columns = df.columns.str.strip().str.lower().str.replace(' ', '_'\n",
    "                                                      ).str.replace('(', ''\n",
    "                                                      ).str.replace(')', ''\n",
    "                                                      ).str.replace('/', ''\n",
    "                                                      ).str.replace('.', ''\n",
    "                                                      )\n",
    "\n",
    "        df.to_csv('./sjr_'+str(year)+'.tsv', sep='\\t', index=False)\n",
    "    \n",
    "df.head()"
   ]
  },
  {
   "cell_type": "code",
   "execution_count": 5,
   "metadata": {},
   "outputs": [
    {
     "name": "stdout",
     "output_type": "stream",
     "text": [
      "root\n",
      " |-- rank: string (nullable = true)\n",
      " |-- sourceid: string (nullable = true)\n",
      " |-- title: string (nullable = true)\n",
      " |-- type: string (nullable = true)\n",
      " |-- issn: string (nullable = true)\n",
      " |-- sjr: string (nullable = true)\n",
      " |-- sjr_best_quartile: string (nullable = true)\n",
      " |-- h_index: string (nullable = true)\n",
      " |-- total_docs_2003: string (nullable = true)\n",
      " |-- total_docs_3years: string (nullable = true)\n",
      " |-- total_refs: string (nullable = true)\n",
      " |-- total_cites_3years: string (nullable = true)\n",
      " |-- citable_docs_3years: string (nullable = true)\n",
      " |-- cites__doc_2years: string (nullable = true)\n",
      " |-- ref__doc: string (nullable = true)\n",
      " |-- country: string (nullable = true)\n",
      " |-- publisher: string (nullable = true)\n",
      " |-- categories: string (nullable = true)\n",
      " |-- year: string (nullable = true)\n",
      " |-- quartile: string (nullable = true)\n",
      "\n"
     ]
    }
   ],
   "source": [
    "sjr = sqlC.read.csv('sjr/*.tsv', sep='\\t', header=True, inferSchema=True)\n",
    "sjr.printSchema()"
   ]
  },
  {
   "cell_type": "code",
   "execution_count": 6,
   "metadata": {},
   "outputs": [
    {
     "data": {
      "text/plain": [
       "509906"
      ]
     },
     "execution_count": 6,
     "metadata": {},
     "output_type": "execute_result"
    }
   ],
   "source": [
    "sjr.count()"
   ]
  },
  {
   "cell_type": "markdown",
   "metadata": {},
   "source": [
    "## save "
   ]
  },
  {
   "cell_type": "code",
   "execution_count": 7,
   "metadata": {},
   "outputs": [],
   "source": [
    "sjr.write.parquet('sjr_ranks.parquet', mode='overwrite')"
   ]
  },
  {
   "cell_type": "code",
   "execution_count": null,
   "metadata": {},
   "outputs": [],
   "source": []
  }
 ],
 "metadata": {
  "kernelspec": {
   "display_name": "Python 3",
   "language": "python",
   "name": "python3"
  },
  "language_info": {
   "codemirror_mode": {
    "name": "ipython",
    "version": 2
   },
   "file_extension": ".py",
   "mimetype": "text/x-python",
   "name": "python",
   "nbconvert_exporter": "python",
   "pygments_lexer": "ipython2",
   "version": "2.7.5"
  }
 },
 "nbformat": 4,
 "nbformat_minor": 2
}
