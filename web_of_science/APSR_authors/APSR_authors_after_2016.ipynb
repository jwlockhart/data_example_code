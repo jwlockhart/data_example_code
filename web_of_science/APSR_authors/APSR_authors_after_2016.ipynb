{
 "cells": [
  {
   "cell_type": "markdown",
   "metadata": {},
   "source": [
    "# List authors and articles in APSR after 2016\n",
    "- Code written to help a friend resolve a twitter debate about authorship trends in the American Political Science Review\n",
    "\n",
    "## setup"
   ]
  },
  {
   "cell_type": "code",
   "execution_count": 1,
   "metadata": {},
   "outputs": [],
   "source": [
    "from pyspark.sql import SQLContext\n",
    "import pandas as pd\n",
    "from collections import Counter\n",
    "from pyspark.sql.functions import *\n",
    "import pyspark.sql"
   ]
  },
  {
   "cell_type": "code",
   "execution_count": 2,
   "metadata": {},
   "outputs": [],
   "source": [
    "sqlC = SQLContext(sc)"
   ]
  },
  {
   "cell_type": "markdown",
   "metadata": {},
   "source": [
    "## load paper data"
   ]
  },
  {
   "cell_type": "code",
   "execution_count": 3,
   "metadata": {},
   "outputs": [
    {
     "data": {
      "text/plain": [
       "['UID', 'times_cited', 'n_cites']"
      ]
     },
     "execution_count": 3,
     "metadata": {},
     "output_type": "execute_result"
    }
   ],
   "source": [
    "ts = sqlC.read.parquet(\"wos_times_cited.parquet\")\n",
    "ts.columns"
   ]
  },
  {
   "cell_type": "code",
   "execution_count": 4,
   "metadata": {
    "scrolled": true
   },
   "outputs": [
    {
     "data": {
      "text/plain": [
       "['UID',\n",
       " 'keywords',\n",
       " 'references',\n",
       " 'full_abstract',\n",
       " 'all_lang',\n",
       " 'pubyear',\n",
       " 'has_abstract',\n",
       " 'pubtype',\n",
       " 'subjects',\n",
       " 'subheadings',\n",
       " 'headings',\n",
       " 'item_title',\n",
       " 'journal',\n",
       " 'issn',\n",
       " 'isbn',\n",
       " 'eissn',\n",
       " 'eisbn',\n",
       " 'doi',\n",
       " 'bare_text']"
      ]
     },
     "execution_count": 4,
     "metadata": {},
     "output_type": "execute_result"
    }
   ],
   "source": [
    "cites = sqlC.read.parquet(\"wos_core_clean.parquet\")\n",
    "cites.columns"
   ]
  },
  {
   "cell_type": "code",
   "execution_count": 5,
   "metadata": {},
   "outputs": [],
   "source": [
    "cites = cites.dropDuplicates(subset=['UID'])\n",
    "#cites.count()"
   ]
  },
  {
   "cell_type": "markdown",
   "metadata": {},
   "source": [
    "## get APSR papers from 2016 and beyond"
   ]
  },
  {
   "cell_type": "code",
   "execution_count": 6,
   "metadata": {},
   "outputs": [
    {
     "data": {
      "text/plain": [
       "26348"
      ]
     },
     "execution_count": 6,
     "metadata": {},
     "output_type": "execute_result"
    }
   ],
   "source": [
    "papers = cites.filter(lower(col('journal')).contains('american political science review')) \n",
    "papers.count()"
   ]
  },
  {
   "cell_type": "code",
   "execution_count": 7,
   "metadata": {},
   "outputs": [
    {
     "data": {
      "text/plain": [
       "186"
      ]
     },
     "execution_count": 7,
     "metadata": {},
     "output_type": "execute_result"
    }
   ],
   "source": [
    "papers = papers.filter(col('pubyear') >= 2016)\n",
    "papers.count()"
   ]
  },
  {
   "cell_type": "code",
   "execution_count": 8,
   "metadata": {},
   "outputs": [],
   "source": [
    "papers = papers.select('UID', 'pubyear', 'item_title', 'full_abstract')"
   ]
  },
  {
   "cell_type": "markdown",
   "metadata": {},
   "source": [
    "## load author data"
   ]
  },
  {
   "cell_type": "code",
   "execution_count": 32,
   "metadata": {},
   "outputs": [
    {
     "data": {
      "text/plain": [
       "['UID',\n",
       " '_addr_no',\n",
       " 'wos_standard',\n",
       " 'email_addr',\n",
       " '_dais_id',\n",
       " '_orcid_id_tr',\n",
       " '_r_id',\n",
       " '_reprint',\n",
       " '_role',\n",
       " '_seq_no',\n",
       " 'display_name',\n",
       " 'first_name',\n",
       " 'full_name',\n",
       " 'last_name',\n",
       " 'suffix',\n",
       " 'row_id',\n",
       " '_addr_no_2',\n",
       " '_dais_id_2',\n",
       " '_orcid_id_tr_2',\n",
       " '_r_id_2',\n",
       " '_reprint_2',\n",
       " '_role_2',\n",
       " '_seq_no_2',\n",
       " 'display_name_2',\n",
       " 'first_name_2',\n",
       " 'full_name_2',\n",
       " 'last_name_2',\n",
       " 'suffix_2',\n",
       " 'row_id2',\n",
       " 'email_addr_2',\n",
       " 'city',\n",
       " 'country',\n",
       " 'full_address',\n",
       " 'organizations',\n",
       " 'state',\n",
       " 'street',\n",
       " 'suborganizations',\n",
       " 'zipcode',\n",
       " 'zip_location',\n",
       " 'pub_year']"
      ]
     },
     "execution_count": 32,
     "metadata": {},
     "output_type": "execute_result"
    }
   ],
   "source": [
    "authors = sqlC.read.parquet(\"WoS_names.parquet\")\n",
    "authors.columns"
   ]
  },
  {
   "cell_type": "code",
   "execution_count": 33,
   "metadata": {},
   "outputs": [
    {
     "data": {
      "text/plain": [
       "328611134"
      ]
     },
     "execution_count": 33,
     "metadata": {},
     "output_type": "execute_result"
    }
   ],
   "source": [
    "authors = authors.select('UID', 'display_name',\n",
    "                         'first_name', 'last_name')\n",
    "authors.count()"
   ]
  },
  {
   "cell_type": "code",
   "execution_count": 34,
   "metadata": {},
   "outputs": [
    {
     "data": {
      "text/plain": [
       "251554595"
      ]
     },
     "execution_count": 34,
     "metadata": {},
     "output_type": "execute_result"
    }
   ],
   "source": [
    "authors= authors.drop_duplicates(subset=['display_name', 'UID'])\n",
    "authors.count()"
   ]
  },
  {
   "cell_type": "markdown",
   "metadata": {},
   "source": [
    "## merge authors with papers"
   ]
  },
  {
   "cell_type": "code",
   "execution_count": 35,
   "metadata": {},
   "outputs": [
    {
     "name": "stdout",
     "output_type": "stream",
     "text": [
      "root\n",
      " |-- UID: string (nullable = true)\n",
      " |-- pubyear: long (nullable = true)\n",
      " |-- item_title: string (nullable = true)\n",
      " |-- full_abstract: string (nullable = true)\n",
      " |-- display_name: string (nullable = true)\n",
      " |-- first_name: string (nullable = true)\n",
      " |-- last_name: string (nullable = true)\n",
      "\n"
     ]
    }
   ],
   "source": [
    "output = papers.join(authors, how='left',on='UID')\n",
    "output.printSchema()"
   ]
  },
  {
   "cell_type": "code",
   "execution_count": 36,
   "metadata": {},
   "outputs": [
    {
     "data": {
      "text/plain": [
       "329"
      ]
     },
     "execution_count": 36,
     "metadata": {},
     "output_type": "execute_result"
    }
   ],
   "source": [
    "output.count()"
   ]
  },
  {
   "cell_type": "code",
   "execution_count": 37,
   "metadata": {},
   "outputs": [
    {
     "name": "stdout",
     "output_type": "stream",
     "text": [
      "+-------------------+-------+--------------------+--------------------+--------------------+-----------+----------+\n",
      "|                UID|pubyear|          item_title|       full_abstract|        display_name| first_name| last_name|\n",
      "+-------------------+-------+--------------------+--------------------+--------------------+-----------+----------+\n",
      "|WOS:000382561900009|   2016|Adam Smith on Wha...|This article expl...|Rasmussen, Dennis C.|  Dennis C.| Rasmussen|\n",
      "|WOS:000446999100009|   2018|Leadership with T...|Group members val...|        Dewan, Torun|      Torun|     Dewan|\n",
      "|WOS:000446999100009|   2018|Leadership with T...|Group members val...|Squintani, Francesco|  Francesco| Squintani|\n",
      "|WOS:000439554800011|   2018|Reading Between t...|This article prov...|     Mueller, Hannes|     Hannes|   Mueller|\n",
      "|WOS:000439554800011|   2018|Reading Between t...|This article prov...|   Rauh, Christopher|Christopher|      Rauh|\n",
      "|WOS:000446999100025|   2018|Ethnoracial Homog...|How does ethnorac...|   Kustov, Alexander|  Alexander|    Kustov|\n",
      "|WOS:000446999100025|   2018|Ethnoracial Homog...|How does ethnorac...|  Pardelli, Giuliana|   Giuliana|  Pardelli|\n",
      "|WOS:000399983400012|   2017|Is the US Governm...|The U.S. Constitu...|      Ciepley, David|      David|   Ciepley|\n",
      "|WOS:000395488200004|   2017|Will vs. Reason: ...|The article compa...|   Caramani, Daniele|    Daniele|  Caramani|\n",
      "|WOS:000399983400008|   2017|Demand for Law an...|Studies of proper...|  Gans-Morse, Jordan|     Jordan|Gans-Morse|\n",
      "|WOS:000437428100011|   2018|Concealing Corrup...|A prerequisite fo...|       Pan, Jennifer|   Jennifer|       Pan|\n",
      "|WOS:000437428100011|   2018|Concealing Corrup...|A prerequisite fo...|       Chen, Kaiping|    Kaiping|      Chen|\n",
      "|WOS:000413977600009|   2017|Policy Uptake as ...|Partisanship is a...|  Sadin, Meredith L.|Meredith L.|     Sadin|\n",
      "|WOS:000413977600009|   2017|Policy Uptake as ...|Partisanship is a...|      Lerman, Amy E.|     Amy E.|    Lerman|\n",
      "|WOS:000413977600009|   2017|Policy Uptake as ...|Partisanship is a...|   Trachtman, Samuel|     Samuel| Trachtman|\n",
      "|WOS:000437428100016|   2018|Trickle-Up Politi...|Scholars have arg...|Dahlgaard, Jens Olav|  Jens Olav| Dahlgaard|\n",
      "|WOS:000382561900006|   2016|The Organizationa...|This article exam...|         Han, Hahrie|     Hahrie|       Han|\n",
      "|WOS:000399983400005|   2017|Vigilance and Con...|Distrust of publi...|  Bruno, Jonathan R.|Jonathan R.|     Bruno|\n",
      "|WOS:000413977600012|   2017|The Death Camp El...|Transfer and redi...|      Finkel, Evgeny|     Evgeny|    Finkel|\n",
      "|WOS:000413977600012|   2017|The Death Camp El...|Transfer and redi...|     Charnysh, Volha|      Volha|  Charnysh|\n",
      "+-------------------+-------+--------------------+--------------------+--------------------+-----------+----------+\n",
      "only showing top 20 rows\n",
      "\n"
     ]
    }
   ],
   "source": [
    "output.show()"
   ]
  },
  {
   "cell_type": "markdown",
   "metadata": {},
   "source": [
    "## output is small, so convert to pandas and save"
   ]
  },
  {
   "cell_type": "code",
   "execution_count": 38,
   "metadata": {},
   "outputs": [
    {
     "data": {
      "text/html": [
       "<div>\n",
       "<style scoped>\n",
       "    .dataframe tbody tr th:only-of-type {\n",
       "        vertical-align: middle;\n",
       "    }\n",
       "\n",
       "    .dataframe tbody tr th {\n",
       "        vertical-align: top;\n",
       "    }\n",
       "\n",
       "    .dataframe thead th {\n",
       "        text-align: right;\n",
       "    }\n",
       "</style>\n",
       "<table border=\"1\" class=\"dataframe\">\n",
       "  <thead>\n",
       "    <tr style=\"text-align: right;\">\n",
       "      <th></th>\n",
       "      <th>UID</th>\n",
       "      <th>pubyear</th>\n",
       "      <th>item_title</th>\n",
       "      <th>full_abstract</th>\n",
       "      <th>display_name</th>\n",
       "      <th>first_name</th>\n",
       "      <th>last_name</th>\n",
       "    </tr>\n",
       "  </thead>\n",
       "  <tbody>\n",
       "    <tr>\n",
       "      <th>0</th>\n",
       "      <td>WOS:000382561900009</td>\n",
       "      <td>2016</td>\n",
       "      <td>Adam Smith on What Is Wrong with Economic Ineq...</td>\n",
       "      <td>This article explores Adam Smith's attitude to...</td>\n",
       "      <td>Rasmussen, Dennis C.</td>\n",
       "      <td>Dennis C.</td>\n",
       "      <td>Rasmussen</td>\n",
       "    </tr>\n",
       "    <tr>\n",
       "      <th>1</th>\n",
       "      <td>WOS:000446999100009</td>\n",
       "      <td>2018</td>\n",
       "      <td>Leadership with Trustworthy Associates</td>\n",
       "      <td>Group members value informed decisions and hol...</td>\n",
       "      <td>Dewan, Torun</td>\n",
       "      <td>Torun</td>\n",
       "      <td>Dewan</td>\n",
       "    </tr>\n",
       "    <tr>\n",
       "      <th>2</th>\n",
       "      <td>WOS:000446999100009</td>\n",
       "      <td>2018</td>\n",
       "      <td>Leadership with Trustworthy Associates</td>\n",
       "      <td>Group members value informed decisions and hol...</td>\n",
       "      <td>Squintani, Francesco</td>\n",
       "      <td>Francesco</td>\n",
       "      <td>Squintani</td>\n",
       "    </tr>\n",
       "    <tr>\n",
       "      <th>3</th>\n",
       "      <td>WOS:000439554800011</td>\n",
       "      <td>2018</td>\n",
       "      <td>Reading Between the Lines: Prediction of Polit...</td>\n",
       "      <td>This article provides a new methodology to pre...</td>\n",
       "      <td>Mueller, Hannes</td>\n",
       "      <td>Hannes</td>\n",
       "      <td>Mueller</td>\n",
       "    </tr>\n",
       "    <tr>\n",
       "      <th>4</th>\n",
       "      <td>WOS:000439554800011</td>\n",
       "      <td>2018</td>\n",
       "      <td>Reading Between the Lines: Prediction of Polit...</td>\n",
       "      <td>This article provides a new methodology to pre...</td>\n",
       "      <td>Rauh, Christopher</td>\n",
       "      <td>Christopher</td>\n",
       "      <td>Rauh</td>\n",
       "    </tr>\n",
       "  </tbody>\n",
       "</table>\n",
       "</div>"
      ],
      "text/plain": [
       "                   UID  pubyear  \\\n",
       "0  WOS:000382561900009     2016   \n",
       "1  WOS:000446999100009     2018   \n",
       "2  WOS:000446999100009     2018   \n",
       "3  WOS:000439554800011     2018   \n",
       "4  WOS:000439554800011     2018   \n",
       "\n",
       "                                          item_title  \\\n",
       "0  Adam Smith on What Is Wrong with Economic Ineq...   \n",
       "1             Leadership with Trustworthy Associates   \n",
       "2             Leadership with Trustworthy Associates   \n",
       "3  Reading Between the Lines: Prediction of Polit...   \n",
       "4  Reading Between the Lines: Prediction of Polit...   \n",
       "\n",
       "                                       full_abstract          display_name  \\\n",
       "0  This article explores Adam Smith's attitude to...  Rasmussen, Dennis C.   \n",
       "1  Group members value informed decisions and hol...          Dewan, Torun   \n",
       "2  Group members value informed decisions and hol...  Squintani, Francesco   \n",
       "3  This article provides a new methodology to pre...       Mueller, Hannes   \n",
       "4  This article provides a new methodology to pre...     Rauh, Christopher   \n",
       "\n",
       "    first_name  last_name  \n",
       "0    Dennis C.  Rasmussen  \n",
       "1        Torun      Dewan  \n",
       "2    Francesco  Squintani  \n",
       "3       Hannes    Mueller  \n",
       "4  Christopher       Rauh  "
      ]
     },
     "execution_count": 38,
     "metadata": {},
     "output_type": "execute_result"
    }
   ],
   "source": [
    "df = output.toPandas()\n",
    "df.head()"
   ]
  },
  {
   "cell_type": "code",
   "execution_count": 39,
   "metadata": {},
   "outputs": [],
   "source": [
    "df.to_csv('for_mike.tsv', sep='\\t', index=False)"
   ]
  },
  {
   "cell_type": "code",
   "execution_count": 40,
   "metadata": {},
   "outputs": [
    {
     "data": {
      "text/plain": [
       "(329, 7)"
      ]
     },
     "execution_count": 40,
     "metadata": {},
     "output_type": "execute_result"
    }
   ],
   "source": [
    "df.shape"
   ]
  },
  {
   "cell_type": "code",
   "execution_count": null,
   "metadata": {},
   "outputs": [],
   "source": []
  },
  {
   "cell_type": "code",
   "execution_count": null,
   "metadata": {},
   "outputs": [],
   "source": []
  },
  {
   "cell_type": "code",
   "execution_count": null,
   "metadata": {},
   "outputs": [],
   "source": []
  },
  {
   "cell_type": "code",
   "execution_count": null,
   "metadata": {},
   "outputs": [],
   "source": []
  }
 ],
 "metadata": {
  "kernelspec": {
   "display_name": "Python 3",
   "language": "python",
   "name": "python3"
  },
  "language_info": {
   "codemirror_mode": {
    "name": "ipython",
    "version": 2
   },
   "file_extension": ".py",
   "mimetype": "text/x-python",
   "name": "python",
   "nbconvert_exporter": "python",
   "pygments_lexer": "ipython2",
   "version": "2.7.5"
  }
 },
 "nbformat": 4,
 "nbformat_minor": 2
}
