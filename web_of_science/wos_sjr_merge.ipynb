{
 "cells": [
  {
   "cell_type": "markdown",
   "metadata": {},
   "source": [
    "# Merge data from SJR and WoS\n",
    "- Scimagio Journal Rank data cleaned in another notebook: SJR_clean_parquet.ipynb\n",
    "- this notebook merges it with the Web of Science\n",
    "\n",
    "## setup"
   ]
  },
  {
   "cell_type": "code",
   "execution_count": 1,
   "metadata": {},
   "outputs": [
    {
     "name": "stdout",
     "output_type": "stream",
     "text": [
      "done\n"
     ]
    }
   ],
   "source": [
    "from pyspark.sql import SQLContext\n",
    "#import pandas as pd\n",
    "from pyspark.sql.functions import *\n",
    "import pyspark.sql\n",
    "import string\n",
    "sqlC = SQLContext(sc)\n",
    "print('done')"
   ]
  },
  {
   "cell_type": "markdown",
   "metadata": {},
   "source": [
    "## load data"
   ]
  },
  {
   "cell_type": "code",
   "execution_count": 2,
   "metadata": {},
   "outputs": [
    {
     "name": "stdout",
     "output_type": "stream",
     "text": [
      "root\n",
      " |-- UID: string (nullable = true)\n",
      " |-- keywords: string (nullable = true)\n",
      " |-- references: struct (nullable = true)\n",
      " |    |-- _VALUE: string (nullable = true)\n",
      " |    |-- _count: long (nullable = true)\n",
      " |    |-- citedWork: string (nullable = true)\n",
      " |    |-- reference: array (nullable = true)\n",
      " |    |    |-- element: struct (containsNull = true)\n",
      " |    |    |    |-- citedAuthor: string (nullable = true)\n",
      " |    |    |    |-- citedTitle: string (nullable = true)\n",
      " |    |    |    |-- citedWork: string (nullable = true)\n",
      " |    |    |    |-- doi: string (nullable = true)\n",
      " |    |    |    |-- i: array (nullable = true)\n",
      " |    |    |    |    |-- element: string (containsNull = true)\n",
      " |    |    |    |-- page: string (nullable = true)\n",
      " |    |    |    |-- patent_no: string (nullable = true)\n",
      " |    |    |    |-- sub: array (nullable = true)\n",
      " |    |    |    |    |-- element: string (containsNull = true)\n",
      " |    |    |    |-- sup: array (nullable = true)\n",
      " |    |    |    |    |-- element: string (containsNull = true)\n",
      " |    |    |    |-- uid: string (nullable = true)\n",
      " |    |    |    |-- volume: string (nullable = true)\n",
      " |    |    |    |-- year: string (nullable = true)\n",
      " |-- full_abstract: string (nullable = true)\n",
      " |-- all_lang: string (nullable = true)\n",
      " |-- pubyear: long (nullable = true)\n",
      " |-- has_abstract: string (nullable = true)\n",
      " |-- pubtype: string (nullable = true)\n",
      " |-- subjects: string (nullable = true)\n",
      " |-- subheadings: string (nullable = true)\n",
      " |-- headings: string (nullable = true)\n",
      " |-- item_title: string (nullable = true)\n",
      " |-- journal: string (nullable = true)\n",
      " |-- issn: string (nullable = true)\n",
      " |-- isbn: string (nullable = true)\n",
      " |-- eissn: string (nullable = true)\n",
      " |-- eisbn: string (nullable = true)\n",
      " |-- doi: string (nullable = true)\n",
      " |-- bare_text: string (nullable = true)\n",
      " |-- loc_id: long (nullable = true)\n",
      " |-- loc_subject: string (nullable = true)\n",
      " |-- loc_bare_text: string (nullable = true)\n",
      "\n"
     ]
    }
   ],
   "source": [
    "wos = sqlC.read.parquet('wos_with_loc.parquet')\n",
    "wos = wos.drop_duplicates(subset=['UID'])\n",
    "wos.printSchema()"
   ]
  },
  {
   "cell_type": "code",
   "execution_count": 3,
   "metadata": {},
   "outputs": [],
   "source": [
    "wos = wos.repartition(1000)"
   ]
  },
  {
   "cell_type": "code",
   "execution_count": 4,
   "metadata": {},
   "outputs": [
    {
     "data": {
      "text/plain": [
       "61785079"
      ]
     },
     "execution_count": 4,
     "metadata": {},
     "output_type": "execute_result"
    }
   ],
   "source": [
    "wos.count()"
   ]
  },
  {
   "cell_type": "code",
   "execution_count": 59,
   "metadata": {},
   "outputs": [
    {
     "name": "stdout",
     "output_type": "stream",
     "text": [
      "root\n",
      " |-- rank: string (nullable = true)\n",
      " |-- sourceid: string (nullable = true)\n",
      " |-- title: string (nullable = true)\n",
      " |-- type: string (nullable = true)\n",
      " |-- issn: string (nullable = true)\n",
      " |-- sjr: string (nullable = true)\n",
      " |-- sjr_best_quartile: string (nullable = true)\n",
      " |-- h_index: string (nullable = true)\n",
      " |-- total_docs_2003: string (nullable = true)\n",
      " |-- total_docs_3years: string (nullable = true)\n",
      " |-- total_refs: string (nullable = true)\n",
      " |-- total_cites_3years: string (nullable = true)\n",
      " |-- citable_docs_3years: string (nullable = true)\n",
      " |-- cites__doc_2years: string (nullable = true)\n",
      " |-- ref__doc: string (nullable = true)\n",
      " |-- country: string (nullable = true)\n",
      " |-- publisher: string (nullable = true)\n",
      " |-- categories: string (nullable = true)\n",
      " |-- year: string (nullable = true)\n",
      " |-- quartile: string (nullable = true)\n",
      "\n"
     ]
    }
   ],
   "source": [
    "sjr = sqlC.read.parquet('sjr_ranks.parquet')\n",
    "sjr.printSchema()"
   ]
  },
  {
   "cell_type": "code",
   "execution_count": 60,
   "metadata": {},
   "outputs": [],
   "source": [
    "#sjr.select('sourceid', 'issn', 'title', 'type').show()"
   ]
  },
  {
   "cell_type": "markdown",
   "metadata": {},
   "source": [
    "##  clean up SJR data a bit more\n",
    "- Some journals have multiple ISSNs, separated by commas. This code splits those into separate data entries so we can match on them. It also standardizes the ISSN numbers to remove the optional hyphen. "
   ]
  },
  {
   "cell_type": "code",
   "execution_count": 61,
   "metadata": {},
   "outputs": [],
   "source": [
    "sjr = sjr.select('rank', 'sourceid', col('title').alias('j_title'), \n",
    "                 'type', 'issn', 'sjr',\n",
    "                 'h_index', 'cites__doc_2years', 'ref__doc',\n",
    "                 'country', 'publisher', 'categories',\n",
    "                 col('year').alias('j_stats_year'), \n",
    "                 col('quartile').alias('j_quartile'))\n",
    "\n",
    "sjr = sjr.withColumn('issn',  regexp_replace('issn', '-', ''))\n",
    "sjr = sjr.withColumn('id', monotonically_increasing_id())"
   ]
  },
  {
   "cell_type": "code",
   "execution_count": 62,
   "metadata": {},
   "outputs": [
    {
     "name": "stdout",
     "output_type": "stream",
     "text": [
      "+---+--------+--------------------+-----------+\n",
      "| id|    issn|             j_title|       type|\n",
      "+---+--------+--------------------+-----------+\n",
      "|  0|07320582|Annual Review of ...|    journal|\n",
      "|  0|15453278|Annual Review of ...|    journal|\n",
      "|  1|15454509|Annual Review of ...|    journal|\n",
      "|  1|00664154|Annual Review of ...|    journal|\n",
      "|  2|15308995|Annual Review of ...|book series|\n",
      "|  2|10810706|Annual Review of ...|book series|\n",
      "|  3|00346861|Reviews of Modern...|    journal|\n",
      "|  3|15390756|Reviews of Modern...|    journal|\n",
      "|  4|15454126|Annual Review of ...|book series|\n",
      "|  4| 0147006|Annual Review of ...|book series|\n",
      "|  5|00928674|                Cell|    journal|\n",
      "|  5|10974172|                Cell|    journal|\n",
      "|  6|15424863|CA - A Cancer Jou...|    journal|\n",
      "|  6|00079235|CA - A Cancer Jou...|    journal|\n",
      "|  7|15292908|   Nature Immunology|    journal|\n",
      "|  7|15292916|   Nature Immunology|    journal|\n",
      "|  8|15221210|Physiological Rev...|    journal|\n",
      "|  8|00319333|Physiological Rev...|    journal|\n",
      "|  9|00335533|Quarterly Journal...|    journal|\n",
      "|  9|15314650|Quarterly Journal...|    journal|\n",
      "+---+--------+--------------------+-----------+\n",
      "only showing top 20 rows\n",
      "\n"
     ]
    }
   ],
   "source": [
    "sjr = sjr.select('rank', 'id', 'j_title', 'type',\n",
    "                 explode(split(col('issn'), ', ')).alias('issn'), \n",
    "                 'sjr', 'h_index',\n",
    "                 'cites__doc_2years', 'ref__doc', 'country',\n",
    "                 'publisher', 'categories', 'j_stats_year',\n",
    "                 'j_quartile')\n",
    "\n",
    "def to_null(c):\n",
    "    return when(~(col(c).isNull() | isnan(col(c)) | (trim(col(c)) == \"\")), col(c))\n",
    "\n",
    "sjr = sjr.withColumn('issn', to_null('issn'))\n",
    "\n",
    "sjr.select('id', 'issn', 'j_title', 'type').show()"
   ]
  },
  {
   "cell_type": "code",
   "execution_count": 63,
   "metadata": {},
   "outputs": [
    {
     "name": "stdout",
     "output_type": "stream",
     "text": [
      "+--------+------+\n",
      "|    issn| count|\n",
      "+--------+------+\n",
      "|    null|107552|\n",
      "|00214922|    45|\n",
      "|15417719|    43|\n",
      "|10258973|    39|\n",
      "|16740068|    37|\n",
      "|02749696|    35|\n",
      "|00189162|    35|\n",
      "|10004874|    29|\n",
      "|14324334|    28|\n",
      "|00296570|    28|\n",
      "| 0004783|    28|\n",
      "|18125425|    27|\n",
      "|00393681|    27|\n",
      "|03174956|    27|\n",
      "|18125387|    27|\n",
      "|10823409|    26|\n",
      "|18753507|    26|\n",
      "|16725123|    26|\n",
      "|15376516|    25|\n",
      "|21867275|    25|\n",
      "+--------+------+\n",
      "only showing top 20 rows\n",
      "\n"
     ]
    }
   ],
   "source": [
    "sjr.groupby('issn').count().sort(desc('count')).show()"
   ]
  },
  {
   "cell_type": "code",
   "execution_count": null,
   "metadata": {},
   "outputs": [],
   "source": []
  },
  {
   "cell_type": "markdown",
   "metadata": {},
   "source": [
    "## ISSN cleaning"
   ]
  },
  {
   "cell_type": "code",
   "execution_count": 64,
   "metadata": {},
   "outputs": [],
   "source": [
    "#wos.select('uid', 'issn', 'eissn').describe().show()"
   ]
  },
  {
   "cell_type": "code",
   "execution_count": 65,
   "metadata": {},
   "outputs": [],
   "source": [
    "#wos.filter(col('issn').isNotNull() | col('eissn').isNotNull()\n",
    "#          ).sample(False, 0.01).select('issn', 'eissn').show()"
   ]
  },
  {
   "cell_type": "code",
   "execution_count": 66,
   "metadata": {},
   "outputs": [],
   "source": [
    "tmp = sjr.filter(col('issn').isNotNull())\n",
    "wos_skinny = wos.select('UID','issn', 'eissn', 'item_title', 'journal', 'pubyear')\n",
    "wos_skinny = wos_skinny.withColumn('issn', regexp_replace('issn', '-', ''))\n",
    "wos_skinny = wos_skinny.withColumn('eissn', regexp_replace('eissn', '-', ''))"
   ]
  },
  {
   "cell_type": "markdown",
   "metadata": {},
   "source": [
    "## matching\n",
    "- Journals may be matched on their ISSN, eISSN, or title. This code tries to match all of them in order.\n",
    "- Each year a journal's rank changes. This code tries to match exact year, but the SJR rankings only go back to 1999. When an exact year match is not possible, it tried to approximate with another year. \n",
    "\n",
    "### pandas approach for reference\n",
    "\n",
    "fb1 = fb[fb.pubyear >= 1999].merge(journals, left_on=['journal', 'pubyear'], right_on=['Title', 'year'], how='inner')\n",
    "fb2 = fb[fb.pubyear < 1999].merge(journals[journals.year == 1999], left_on='journal', right_on='Title', how='inner')\n",
    "fb3 = fb[(~fb.UID.isin(fb1.UID))&(~fb.UID.isin(fb2.UID))]\n",
    "jt = journals.sort_values(by='year', ascending=False).drop_duplicates(subset=['Title'], keep='first')\n",
    "fb3 = fb3.merge(jt, left_on='journal', right_on='Title', how='left')\n",
    "\n",
    "#todo find source of dupes\n",
    "fb = pd.concat([fb1,fb2,fb3]).drop_duplicates(subset=['UID'])"
   ]
  },
  {
   "cell_type": "code",
   "execution_count": 67,
   "metadata": {},
   "outputs": [
    {
     "name": "stdout",
     "output_type": "stream",
     "text": [
      "+--------+-------+--------------------+--------------------+\n",
      "|    issn|pubyear|             journal|             j_title|\n",
      "+--------+-------+--------------------+--------------------+\n",
      "|09601481|   1999|    RENEWABLE ENERGY|    Renewable Energy|\n",
      "|00457930|   1999|  COMPUTERS & FLUIDS|Computers and Fluids|\n",
      "|00207403|   1999|INTERNATIONAL JOU...|International Jou...|\n",
      "|00207462|   1999|INTERNATIONAL JOU...|International Jou...|\n",
      "|00323861|   1999|             POLYMER|             Polymer|\n",
      "|00323861|   1999|             POLYMER|             Polymer|\n",
      "|00323861|   1999|             POLYMER|             Polymer|\n",
      "|03064522|   1999|        NEUROSCIENCE|        Neuroscience|\n",
      "|00218995|   1999|JOURNAL OF APPLIE...|Journal of Applie...|\n",
      "|10813004|   1999|JOURNAL OF ADOLES...|Journal of Adoles...|\n",
      "|09462716|   1999|JOURNAL OF MOLECU...|Journal of Molecu...|\n",
      "|87560437|   1999|SEMINARS IN SURGI...|Seminars in Surgi...|\n",
      "|00963003|   1999|APPLIED MATHEMATI...|Applied Mathemati...|\n",
      "|01764276|   1999|CONSTRUCTIVE APPR...|Constructive Appr...|\n",
      "|01650114|   1999|FUZZY SETS AND SY...|Fuzzy Sets and Sy...|\n",
      "|03088146|   1999|      FOOD CHEMISTRY|      Food Chemistry|\n",
      "|07339399|   1999|JOURNAL OF ENGINE...|Journal of Engine...|\n",
      "|03048853|   1999|JOURNAL OF MAGNET...|Journal of Magnet...|\n",
      "|03048853|   1999|JOURNAL OF MAGNET...|Journal of Magnet...|\n",
      "|00333557|   1999|     PUBLIC INTEREST|     Public Interest|\n",
      "+--------+-------+--------------------+--------------------+\n",
      "only showing top 20 rows\n",
      "\n"
     ]
    }
   ],
   "source": [
    "t2 = tmp.select('id', 'issn', col('j_stats_year').alias('pubyear'), 'j_title')\n",
    "a = wos_skinny.join(t2, on=['issn', 'pubyear'], how='inner')\n",
    "a.select('issn', 'pubyear', 'journal', 'j_title').show()"
   ]
  },
  {
   "cell_type": "code",
   "execution_count": 68,
   "metadata": {},
   "outputs": [
    {
     "data": {
      "text/plain": [
       "26732396"
      ]
     },
     "execution_count": 68,
     "metadata": {},
     "output_type": "execute_result"
    }
   ],
   "source": [
    "a.count()"
   ]
  },
  {
   "cell_type": "code",
   "execution_count": 69,
   "metadata": {},
   "outputs": [
    {
     "name": "stdout",
     "output_type": "stream",
     "text": [
      "+--------+-------+--------------------+--------------------+\n",
      "|    issn|pubyear|             journal|             j_title|\n",
      "+--------+-------+--------------------+--------------------+\n",
      "|03051048|   1999|NUCLEIC ACIDS RES...|Nucleic Acids Res...|\n",
      "|00223476|   1999|JOURNAL OF PEDIAT...|Journal of Pediat...|\n",
      "|00218995|   1999|JOURNAL OF APPLIE...|Journal of Applie...|\n",
      "|00916749|   1999|JOURNAL OF ALLERG...|Journal of Allerg...|\n",
      "|00220272|   1999|JOURNAL OF CURRIC...|Journal of Curric...|\n",
      "|00740276|   1999|MEMORIAS DO INSTI...|Memorias do Insti...|\n",
      "|03345114|   1999|           SYMBIOSIS|           Symbiosis|\n",
      "|08888892|   1999|CONSERVATION BIOLOGY|Conservation Biology|\n",
      "|00220949|   1999|JOURNAL OF EXPERI...|Journal of Experi...|\n",
      "|00092673|   1999|BULLETIN OF THE C...|Bulletin of the C...|\n",
      "|10465928|   1999|PROTEIN EXPRESSIO...|Protein Expressio...|\n",
      "|00223476|   1999|JOURNAL OF PEDIAT...|Journal of Pediat...|\n",
      "|24700010|   1999|   PHYSICAL REVIEW D|   Physical Review D|\n",
      "|00063592|   1999|BIOTECHNOLOGY AND...|Biotechnology and...|\n",
      "|00130133|   1999|    ECONOMIC JOURNAL|    Economic Journal|\n",
      "|1559128X|   1999|      APPLIED OPTICS|      Applied Optics|\n",
      "|00092673|   1999|BULLETIN OF THE C...|Bulletin of the C...|\n",
      "|00092673|   1999|BULLETIN OF THE C...|Bulletin of the C...|\n",
      "|09168451|   1999|BIOSCIENCE BIOTEC...|Bioscience, Biote...|\n",
      "|00219533|   1999|JOURNAL OF CELL S...|Journal of Cell S...|\n",
      "+--------+-------+--------------------+--------------------+\n",
      "only showing top 20 rows\n",
      "\n"
     ]
    }
   ],
   "source": [
    "t2 = tmp.select('id', col('issn').alias('eissn'), col('j_stats_year').alias('pubyear'), 'j_title')\n",
    "b = wos_skinny.join(t2, on=['eissn', 'pubyear'], how='inner')\n",
    "b.select('issn', 'pubyear', 'journal', 'j_title').show()"
   ]
  },
  {
   "cell_type": "code",
   "execution_count": 70,
   "metadata": {},
   "outputs": [
    {
     "data": {
      "text/plain": [
       "3910289"
      ]
     },
     "execution_count": 70,
     "metadata": {},
     "output_type": "execute_result"
    }
   ],
   "source": [
    "b.count()"
   ]
  },
  {
   "cell_type": "code",
   "execution_count": 71,
   "metadata": {},
   "outputs": [
    {
     "name": "stdout",
     "output_type": "stream",
     "text": [
      "27215321\n",
      "27144656\n"
     ]
    }
   ],
   "source": [
    "done = a.select('id', 'UID').unionAll(b.select('id', 'UID')).dropDuplicates()\n",
    "done.cache()\n",
    "print(done.count())\n",
    "print(done.dropDuplicates(subset=['UID']).count())"
   ]
  },
  {
   "cell_type": "code",
   "execution_count": 72,
   "metadata": {},
   "outputs": [
    {
     "name": "stdout",
     "output_type": "stream",
     "text": [
      "61785079\n"
     ]
    },
    {
     "data": {
      "text/plain": [
       "34640423"
      ]
     },
     "execution_count": 72,
     "metadata": {},
     "output_type": "execute_result"
    }
   ],
   "source": [
    "print(wos_skinny.count())\n",
    "wos_skinny = wos_skinny.join(done, on='UID', how='left_anti')\n",
    "wos_skinny.count()"
   ]
  },
  {
   "cell_type": "code",
   "execution_count": 73,
   "metadata": {},
   "outputs": [
    {
     "name": "stdout",
     "output_type": "stream",
     "text": [
      "+--------+-------+--------------------+--------------------+\n",
      "|    issn|pubyear|             journal|             j_title|\n",
      "+--------+-------+--------------------+--------------------+\n",
      "|00377333|   1997|         SMITHSONIAN|         Smithsonian|\n",
      "|00096407|   1997|      CHURCH HISTORY|      Church History|\n",
      "|00274224|   1997|     MUSIC & LETTERS|   Music and Letters|\n",
      "|01624962|   1997|BIOGRAPHY-AN INTE...|           Biography|\n",
      "|00130796|   1997|   ECUMENICAL REVIEW|   Ecumenical Review|\n",
      "|03061078|   1997|         EARLY MUSIC|         Early Music|\n",
      "|00238031|   1997|LANDSCAPE ARCHITE...|Landscape Archite...|\n",
      "|10427961|   1997|JOURNAL OF WOMENS...|Journal of women'...|\n",
      "|00071250|   1997|BRITISH JOURNAL O...|British Journal o...|\n",
      "|00778923|   1996|ENZYME ENGINEERIN...|Annals of the New...|\n",
      "|00778923|   1996|ENZYME ENGINEERIN...|Annals of the New...|\n",
      "|00778923|   1996|MYOCARDIAL PRESER...|Annals of the New...|\n",
      "|00778923|   1996|MYOCARDIAL PRESER...|Annals of the New...|\n",
      "|00139580|   1997|           EPILEPSIA|           Epilepsia|\n",
      "|00086363|   1997|CARDIOVASCULAR RE...|Cardiovascular Re...|\n",
      "|01431161|   1997|INTERNATIONAL JOU...|International Jou...|\n",
      "|00283878|   1997|           NEUROLOGY|           Neurology|\n",
      "|00411345|   1997|TRANSPLANTATION P...|Transplantation P...|\n",
      "|00411345|   1997|TRANSPLANTATION P...|Transplantation P...|\n",
      "|00411345|   1997|TRANSPLANTATION P...|Transplantation P...|\n",
      "+--------+-------+--------------------+--------------------+\n",
      "only showing top 20 rows\n",
      "\n"
     ]
    }
   ],
   "source": [
    "t2 = tmp.filter(col('j_stats_year') == 1999).select('id', 'issn', 'j_title')\n",
    "c = wos_skinny.join(t2, on=['issn'], how='inner')\n",
    "c.select('issn', 'pubyear', 'journal', 'j_title').show()"
   ]
  },
  {
   "cell_type": "code",
   "execution_count": 74,
   "metadata": {},
   "outputs": [
    {
     "data": {
      "text/plain": [
       "16595988"
      ]
     },
     "execution_count": 74,
     "metadata": {},
     "output_type": "execute_result"
    }
   ],
   "source": [
    "c.count()"
   ]
  },
  {
   "cell_type": "code",
   "execution_count": 75,
   "metadata": {},
   "outputs": [
    {
     "name": "stdout",
     "output_type": "stream",
     "text": [
      "+--------+-------+--------------------+--------------------+\n",
      "|    issn|pubyear|             journal|             j_title|\n",
      "+--------+-------+--------------------+--------------------+\n",
      "|03063674|   1997|BRITISH JOURNAL O...|British Journal o...|\n",
      "|0002726X|   1997|AMERICAN ANNALS O...|American Annals o...|\n",
      "|1063651X|   1997|   PHYSICAL REVIEW E|  Physical review. E|\n",
      "|09108327|   1997|   HEART AND VESSELS|   Heart and Vessels|\n",
      "|10637761|   1997|JOURNAL OF EXPERI...|Journal of Experi...|\n",
      "|00092673|   1997|BULLETIN OF THE C...|Bulletin of the C...|\n",
      "|13645021|   1998|PROCEEDINGS OF TH...|Proceedings of th...|\n",
      "|01676806|   1997|BREAST CANCER RES...|Breast Cancer Res...|\n",
      "|07302312|   1998|JOURNAL OF CELLUL...|Journal of Cellul...|\n",
      "|0006291X|   1998|BIOCHEMICAL AND B...|Biochemical and B...|\n",
      "|00221120|   1998|JOURNAL OF FLUID ...|Journal of Fluid ...|\n",
      "|00036951|   1998|APPLIED PHYSICS L...|Applied Physics L...|\n",
      "|09168451|   1998|BIOSCIENCE BIOTEC...|Bioscience, Biote...|\n",
      "|0022538X|   1998| JOURNAL OF VIROLOGY| Journal of Virology|\n",
      "|10490965|   1998|PS-POLITICAL SCIE...|PS - Political Sc...|\n",
      "|03636119|   1998|AMERICAN JOURNAL ...|American Journal ...|\n",
      "|00358711|   1998|MONTHLY NOTICES O...|Monthly Notices o...|\n",
      "|10637834|   1998|PHYSICS OF THE SO...|Physics of the So...|\n",
      "|00445991|   1997|ACTA HISTOCHEMICA...|Acta Histochemica...|\n",
      "|00445991|   1997|ACTA HISTOCHEMICA...|Acta Histochemica...|\n",
      "+--------+-------+--------------------+--------------------+\n",
      "only showing top 20 rows\n",
      "\n"
     ]
    }
   ],
   "source": [
    "t2 = tmp.filter(col('j_stats_year') == 1999).select('id', col('issn').alias('eissn'), 'j_title')\n",
    "d = wos_skinny.join(t2, on=['eissn'], how='inner')\n",
    "d.select('issn', 'pubyear', 'journal', 'j_title').show()"
   ]
  },
  {
   "cell_type": "code",
   "execution_count": 76,
   "metadata": {},
   "outputs": [
    {
     "data": {
      "text/plain": [
       "379089"
      ]
     },
     "execution_count": 76,
     "metadata": {},
     "output_type": "execute_result"
    }
   ],
   "source": [
    "d.count()"
   ]
  },
  {
   "cell_type": "code",
   "execution_count": 77,
   "metadata": {},
   "outputs": [
    {
     "data": {
      "text/plain": [
       "16630998"
      ]
     },
     "execution_count": 77,
     "metadata": {},
     "output_type": "execute_result"
    }
   ],
   "source": [
    "tmp_done = c.select('id', 'UID').unionAll(d.select('id', 'UID')).dropDuplicates()\n",
    "tmp_done.count()"
   ]
  },
  {
   "cell_type": "code",
   "execution_count": 78,
   "metadata": {},
   "outputs": [
    {
     "data": {
      "text/plain": [
       "43737676"
      ]
     },
     "execution_count": 78,
     "metadata": {},
     "output_type": "execute_result"
    }
   ],
   "source": [
    "done = done.unionAll(tmp_done).dropDuplicates(subset=['UID'])\n",
    "done.count()"
   ]
  },
  {
   "cell_type": "code",
   "execution_count": 79,
   "metadata": {},
   "outputs": [
    {
     "name": "stdout",
     "output_type": "stream",
     "text": [
      "34640423\n"
     ]
    },
    {
     "data": {
      "text/plain": [
       "18047403"
      ]
     },
     "execution_count": 79,
     "metadata": {},
     "output_type": "execute_result"
    }
   ],
   "source": [
    "print(wos_skinny.count())\n",
    "wos_skinny = wos_skinny.join(done, on='UID', how='left_anti')\n",
    "wos_skinny.count()"
   ]
  },
  {
   "cell_type": "code",
   "execution_count": 80,
   "metadata": {},
   "outputs": [
    {
     "data": {
      "text/plain": [
       "1082584"
      ]
     },
     "execution_count": 80,
     "metadata": {},
     "output_type": "execute_result"
    }
   ],
   "source": [
    "t2 = tmp.filter(col('j_stats_year') == 2017).select('id', 'issn', 'j_title')\n",
    "e = wos_skinny.join(t2, on=['issn'], how='inner')\n",
    "e.count()"
   ]
  },
  {
   "cell_type": "code",
   "execution_count": 81,
   "metadata": {},
   "outputs": [
    {
     "data": {
      "text/plain": [
       "44818666"
      ]
     },
     "execution_count": 81,
     "metadata": {},
     "output_type": "execute_result"
    }
   ],
   "source": [
    "done = done.unionAll(e.select('id', 'UID')).dropDuplicates(subset=['UID'])\n",
    "done.count()"
   ]
  },
  {
   "cell_type": "markdown",
   "metadata": {},
   "source": [
    "## trying title matching below"
   ]
  },
  {
   "cell_type": "code",
   "execution_count": 82,
   "metadata": {},
   "outputs": [
    {
     "name": "stdout",
     "output_type": "stream",
     "text": [
      "18047403\n"
     ]
    },
    {
     "data": {
      "text/plain": [
       "16966413"
      ]
     },
     "execution_count": 82,
     "metadata": {},
     "output_type": "execute_result"
    }
   ],
   "source": [
    "print(wos_skinny.count())\n",
    "wos_skinny = wos_skinny.join(done, on='UID', how='left_anti')\n",
    "wos_skinny.count()"
   ]
  },
  {
   "cell_type": "code",
   "execution_count": 83,
   "metadata": {},
   "outputs": [
    {
     "data": {
      "text/plain": [
       "['UID', 'issn', 'eissn', 'item_title', 'journal', 'pubyear']"
      ]
     },
     "execution_count": 83,
     "metadata": {},
     "output_type": "execute_result"
    }
   ],
   "source": [
    "wos_skinny.columns"
   ]
  },
  {
   "cell_type": "code",
   "execution_count": 84,
   "metadata": {},
   "outputs": [
    {
     "data": {
      "text/plain": [
       "DataFrame[UID: string, issn: string, eissn: string, item_title: string, journal: string, pubyear: bigint]"
      ]
     },
     "execution_count": 84,
     "metadata": {},
     "output_type": "execute_result"
    }
   ],
   "source": [
    "t2 = sjr.select('id',\n",
    "                col('j_stats_year').alias('pubyear'), \n",
    "                col('j_title').alias('journal'))\n",
    "\n",
    "spaces = \"\"\n",
    "for i in string.punctuation:\n",
    "    spaces += \" \"\n",
    "\n",
    "t2 = t2.withColumn('journal', lower(regexp_replace('journal', \"'\", '')))\n",
    "t2 = t2.withColumn('journal', regexp_replace('journal', \" & \", ' and '))\n",
    "t2 = t2.withColumn('journal', regexp_replace('journal', ', vol \\d+', ''))\n",
    "t2 = t2.withColumn('journal', regexp_replace('journal', ', volume \\d+', ''))\n",
    "t2 = t2.withColumn('journal', trim(translate(col('journal'), string.punctuation, spaces)))\n",
    "t2 = t2.withColumn('journal', regexp_replace('journal', '  ', ' '))\n",
    "t2 = t2.withColumn('journal', regexp_replace('journal', '  ', ' '))\n",
    "t2.cache()\n",
    "#t2.sample(False, 0.1).select('journal').take(20)\n",
    "\n",
    "wos_skinny = wos_skinny.withColumn('journal', lower(regexp_replace('journal', \"'\", '')))\n",
    "wos_skinny = wos_skinny.withColumn('journal', regexp_replace('journal', \" & \", ' and '))\n",
    "wos_skinny = wos_skinny.withColumn('journal', regexp_replace('journal', ', vol \\d+', ''))\n",
    "wos_skinny = wos_skinny.withColumn('journal', regexp_replace('journal', ', volume \\d+', ''))\n",
    "wos_skinny = wos_skinny.withColumn('journal', trim(translate(col('journal'), string.punctuation, spaces)))\n",
    "wos_skinny = wos_skinny.withColumn('journal', regexp_replace('journal', '  ', ' '))\n",
    "wos_skinny = wos_skinny.withColumn('journal', regexp_replace('journal', '  ', ' '))\n",
    "wos_skinny.cache()\n",
    "#wos_skinny.sample(False, 0.1).select('journal').take(20)"
   ]
  },
  {
   "cell_type": "code",
   "execution_count": 85,
   "metadata": {},
   "outputs": [
    {
     "data": {
      "text/plain": [
       "3734277"
      ]
     },
     "execution_count": 85,
     "metadata": {},
     "output_type": "execute_result"
    }
   ],
   "source": [
    "f = wos_skinny.join(t2, on=['journal', 'pubyear'], how='inner')\n",
    "f.count()"
   ]
  },
  {
   "cell_type": "code",
   "execution_count": 86,
   "metadata": {},
   "outputs": [
    {
     "data": {
      "text/plain": [
       "47506069"
      ]
     },
     "execution_count": 86,
     "metadata": {},
     "output_type": "execute_result"
    }
   ],
   "source": [
    "done = done.unionAll(f.select('id', 'UID')).dropDuplicates(subset=['UID'])\n",
    "done.cache()\n",
    "done.count()"
   ]
  },
  {
   "cell_type": "code",
   "execution_count": 87,
   "metadata": {},
   "outputs": [
    {
     "name": "stdout",
     "output_type": "stream",
     "text": [
      "16966413\n"
     ]
    },
    {
     "data": {
      "text/plain": [
       "14279010"
      ]
     },
     "execution_count": 87,
     "metadata": {},
     "output_type": "execute_result"
    }
   ],
   "source": [
    "print(wos_skinny.count())\n",
    "wos_skinny = wos_skinny.join(done, on='UID', how='left_anti')\n",
    "wos_skinny.count()"
   ]
  },
  {
   "cell_type": "code",
   "execution_count": 88,
   "metadata": {},
   "outputs": [
    {
     "data": {
      "text/plain": [
       "2838194"
      ]
     },
     "execution_count": 88,
     "metadata": {},
     "output_type": "execute_result"
    }
   ],
   "source": [
    "t3 = t2.filter(col('pubyear') == 1999)\n",
    "g = wos_skinny.join(t3, on=['journal'], how='inner')\n",
    "g.count()"
   ]
  },
  {
   "cell_type": "code",
   "execution_count": 89,
   "metadata": {},
   "outputs": [
    {
     "data": {
      "text/plain": [
       "49444290"
      ]
     },
     "execution_count": 89,
     "metadata": {},
     "output_type": "execute_result"
    }
   ],
   "source": [
    "done = done.unionAll(g.select('id', 'UID')).dropDuplicates(subset=['UID'])\n",
    "done.count()"
   ]
  },
  {
   "cell_type": "code",
   "execution_count": 90,
   "metadata": {},
   "outputs": [
    {
     "name": "stdout",
     "output_type": "stream",
     "text": [
      "14279010\n"
     ]
    },
    {
     "data": {
      "text/plain": [
       "12340789"
      ]
     },
     "execution_count": 90,
     "metadata": {},
     "output_type": "execute_result"
    }
   ],
   "source": [
    "print(wos_skinny.count())\n",
    "wos_skinny = wos_skinny.join(done, on='UID', how='left_anti')\n",
    "wos_skinny.count()"
   ]
  },
  {
   "cell_type": "code",
   "execution_count": 91,
   "metadata": {},
   "outputs": [
    {
     "data": {
      "text/plain": [
       "358312"
      ]
     },
     "execution_count": 91,
     "metadata": {},
     "output_type": "execute_result"
    }
   ],
   "source": [
    "t3 = t2.filter(col('pubyear') == 2017)\n",
    "h = wos_skinny.join(t3, on=['journal'], how='inner')\n",
    "h.count()"
   ]
  },
  {
   "cell_type": "code",
   "execution_count": 92,
   "metadata": {},
   "outputs": [
    {
     "data": {
      "text/plain": [
       "49747057"
      ]
     },
     "execution_count": 92,
     "metadata": {},
     "output_type": "execute_result"
    }
   ],
   "source": [
    "done = done.unionAll(h.select('id', 'UID')).dropDuplicates(subset=['UID'])\n",
    "done.count()"
   ]
  },
  {
   "cell_type": "markdown",
   "metadata": {},
   "source": [
    "## bringing it all together"
   ]
  },
  {
   "cell_type": "code",
   "execution_count": 93,
   "metadata": {},
   "outputs": [
    {
     "name": "stdout",
     "output_type": "stream",
     "text": [
      "root\n",
      " |-- id: long (nullable = false)\n",
      " |-- UID: string (nullable = true)\n",
      " |-- j_rank: string (nullable = true)\n",
      " |-- j_title: string (nullable = true)\n",
      " |-- sjr: string (nullable = true)\n",
      " |-- h_index: string (nullable = true)\n",
      " |-- cites__doc_2years: string (nullable = true)\n",
      " |-- country: string (nullable = true)\n",
      " |-- publisher: string (nullable = true)\n",
      " |-- categories: string (nullable = true)\n",
      " |-- j_quartile: string (nullable = true)\n",
      "\n"
     ]
    }
   ],
   "source": [
    "tmp = sjr.select(col('rank').alias('j_rank'), 'id', 'j_title', 'sjr', \n",
    "                 'h_index', 'cites__doc_2years',  'country', 'publisher',\n",
    "                 'categories', 'j_quartile').dropDuplicates(subset=['id'])\n",
    "\n",
    "done = done.join(tmp, on='id', how='left')\n",
    "done = done.dropDuplicates(subset=['UID'])\n",
    "done.printSchema()"
   ]
  },
  {
   "cell_type": "code",
   "execution_count": 94,
   "metadata": {},
   "outputs": [],
   "source": [
    "done.write.parquet('small_wos_sjr_tmp.parquet', mode='overwrite')"
   ]
  },
  {
   "cell_type": "code",
   "execution_count": 21,
   "metadata": {},
   "outputs": [
    {
     "data": {
      "text/plain": [
       "49747057"
      ]
     },
     "execution_count": 21,
     "metadata": {},
     "output_type": "execute_result"
    }
   ],
   "source": [
    "done = sqlC.read.parquet('small_wos_sjr_tmp.parquet')\n",
    "done = done.dropDuplicates(subset=['UID'])\n",
    "done.count()"
   ]
  },
  {
   "cell_type": "code",
   "execution_count": 22,
   "metadata": {},
   "outputs": [],
   "source": [
    "done = done.select('UID', 'j_rank', 'sjr', 'h_index',\n",
    "                   'cites__doc_2years', 'country', 'publisher',\n",
    "                   'categories', 'j_quartile')"
   ]
  },
  {
   "cell_type": "code",
   "execution_count": 23,
   "metadata": {},
   "outputs": [
    {
     "data": {
      "text/plain": [
       "1000"
      ]
     },
     "execution_count": 23,
     "metadata": {},
     "output_type": "execute_result"
    }
   ],
   "source": [
    "done = done.repartition(1000)\n",
    "done.rdd.getNumPartitions()"
   ]
  },
  {
   "cell_type": "code",
   "execution_count": 24,
   "metadata": {},
   "outputs": [],
   "source": [
    "wos2 = wos.join(done, on='UID', how='left')\n",
    "#wos2.printSchema()"
   ]
  },
  {
   "cell_type": "code",
   "execution_count": 25,
   "metadata": {},
   "outputs": [
    {
     "data": {
      "text/plain": [
       "1000"
      ]
     },
     "execution_count": 25,
     "metadata": {},
     "output_type": "execute_result"
    }
   ],
   "source": [
    "wos2 = wos2.repartition(1000)\n",
    "wos2.rdd.getNumPartitions()"
   ]
  },
  {
   "cell_type": "code",
   "execution_count": 26,
   "metadata": {},
   "outputs": [],
   "source": [
    "wos2.write.parquet('wos_with_loc_sjr.parquet', mode='overwrite')"
   ]
  },
  {
   "cell_type": "markdown",
   "metadata": {},
   "source": [
    "## Save"
   ]
  },
  {
   "cell_type": "code",
   "execution_count": 27,
   "metadata": {},
   "outputs": [
    {
     "name": "stdout",
     "output_type": "stream",
     "text": [
      "root\n",
      " |-- UID: string (nullable = true)\n",
      " |-- keywords: string (nullable = true)\n",
      " |-- references: struct (nullable = true)\n",
      " |    |-- _VALUE: string (nullable = true)\n",
      " |    |-- _count: long (nullable = true)\n",
      " |    |-- citedWork: string (nullable = true)\n",
      " |    |-- reference: array (nullable = true)\n",
      " |    |    |-- element: struct (containsNull = true)\n",
      " |    |    |    |-- citedAuthor: string (nullable = true)\n",
      " |    |    |    |-- citedTitle: string (nullable = true)\n",
      " |    |    |    |-- citedWork: string (nullable = true)\n",
      " |    |    |    |-- doi: string (nullable = true)\n",
      " |    |    |    |-- i: array (nullable = true)\n",
      " |    |    |    |    |-- element: string (containsNull = true)\n",
      " |    |    |    |-- page: string (nullable = true)\n",
      " |    |    |    |-- patent_no: string (nullable = true)\n",
      " |    |    |    |-- sub: array (nullable = true)\n",
      " |    |    |    |    |-- element: string (containsNull = true)\n",
      " |    |    |    |-- sup: array (nullable = true)\n",
      " |    |    |    |    |-- element: string (containsNull = true)\n",
      " |    |    |    |-- uid: string (nullable = true)\n",
      " |    |    |    |-- volume: string (nullable = true)\n",
      " |    |    |    |-- year: string (nullable = true)\n",
      " |-- full_abstract: string (nullable = true)\n",
      " |-- all_lang: string (nullable = true)\n",
      " |-- pubyear: long (nullable = true)\n",
      " |-- has_abstract: string (nullable = true)\n",
      " |-- pubtype: string (nullable = true)\n",
      " |-- subjects: string (nullable = true)\n",
      " |-- subheadings: string (nullable = true)\n",
      " |-- headings: string (nullable = true)\n",
      " |-- item_title: string (nullable = true)\n",
      " |-- journal: string (nullable = true)\n",
      " |-- issn: string (nullable = true)\n",
      " |-- isbn: string (nullable = true)\n",
      " |-- eissn: string (nullable = true)\n",
      " |-- eisbn: string (nullable = true)\n",
      " |-- doi: string (nullable = true)\n",
      " |-- bare_text: string (nullable = true)\n",
      " |-- loc_id: long (nullable = true)\n",
      " |-- loc_subject: string (nullable = true)\n",
      " |-- loc_bare_text: string (nullable = true)\n",
      " |-- j_rank: string (nullable = true)\n",
      " |-- sjr: string (nullable = true)\n",
      " |-- h_index: string (nullable = true)\n",
      " |-- cites__doc_2years: string (nullable = true)\n",
      " |-- country: string (nullable = true)\n",
      " |-- publisher: string (nullable = true)\n",
      " |-- categories: string (nullable = true)\n",
      " |-- j_quartile: string (nullable = true)\n",
      "\n"
     ]
    }
   ],
   "source": [
    "wos2 = sqlC.read.parquet('wos_with_loc_sjr.parquet')\n",
    "wos2.printSchema()"
   ]
  },
  {
   "cell_type": "markdown",
   "metadata": {},
   "source": [
    "## Summarize"
   ]
  },
  {
   "cell_type": "code",
   "execution_count": 28,
   "metadata": {},
   "outputs": [
    {
     "data": {
      "text/plain": [
       "61785079"
      ]
     },
     "execution_count": 28,
     "metadata": {},
     "output_type": "execute_result"
    }
   ],
   "source": [
    "wos2.count()"
   ]
  },
  {
   "cell_type": "code",
   "execution_count": 29,
   "metadata": {},
   "outputs": [
    {
     "data": {
      "text/html": [
       "<div>\n",
       "<style scoped>\n",
       "    .dataframe tbody tr th:only-of-type {\n",
       "        vertical-align: middle;\n",
       "    }\n",
       "\n",
       "    .dataframe tbody tr th {\n",
       "        vertical-align: top;\n",
       "    }\n",
       "\n",
       "    .dataframe thead th {\n",
       "        text-align: right;\n",
       "    }\n",
       "</style>\n",
       "<table border=\"1\" class=\"dataframe\">\n",
       "  <thead>\n",
       "    <tr style=\"text-align: right;\">\n",
       "      <th></th>\n",
       "      <th>summary</th>\n",
       "      <th>UID</th>\n",
       "      <th>keywords</th>\n",
       "      <th>full_abstract</th>\n",
       "      <th>all_lang</th>\n",
       "      <th>pubyear</th>\n",
       "      <th>has_abstract</th>\n",
       "      <th>pubtype</th>\n",
       "      <th>subjects</th>\n",
       "      <th>subheadings</th>\n",
       "      <th>...</th>\n",
       "      <th>loc_subject</th>\n",
       "      <th>loc_bare_text</th>\n",
       "      <th>j_rank</th>\n",
       "      <th>sjr</th>\n",
       "      <th>h_index</th>\n",
       "      <th>cites__doc_2years</th>\n",
       "      <th>country</th>\n",
       "      <th>publisher</th>\n",
       "      <th>categories</th>\n",
       "      <th>j_quartile</th>\n",
       "    </tr>\n",
       "  </thead>\n",
       "  <tbody>\n",
       "    <tr>\n",
       "      <th>0</th>\n",
       "      <td>count</td>\n",
       "      <td>61785079</td>\n",
       "      <td>61785079</td>\n",
       "      <td>61785079</td>\n",
       "      <td>61785079</td>\n",
       "      <td>61785079</td>\n",
       "      <td>61785079</td>\n",
       "      <td>61785079</td>\n",
       "      <td>61785079</td>\n",
       "      <td>61785079</td>\n",
       "      <td>...</td>\n",
       "      <td>1797994</td>\n",
       "      <td>1820336</td>\n",
       "      <td>49747057</td>\n",
       "      <td>48883810</td>\n",
       "      <td>49747057</td>\n",
       "      <td>49747057</td>\n",
       "      <td>49746574</td>\n",
       "      <td>48640202</td>\n",
       "      <td>49747057</td>\n",
       "      <td>48078664</td>\n",
       "    </tr>\n",
       "    <tr>\n",
       "      <th>1</th>\n",
       "      <td>mean</td>\n",
       "      <td>None</td>\n",
       "      <td>2.85714285714285728E17</td>\n",
       "      <td>5.352941176470588</td>\n",
       "      <td>None</td>\n",
       "      <td>1997.029839146115</td>\n",
       "      <td>None</td>\n",
       "      <td>None</td>\n",
       "      <td>None</td>\n",
       "      <td>None</td>\n",
       "      <td>...</td>\n",
       "      <td>None</td>\n",
       "      <td>None</td>\n",
       "      <td>5443.183626882692</td>\n",
       "      <td>1.56718835182854</td>\n",
       "      <td>130.7008273876382</td>\n",
       "      <td>2.597706033745839</td>\n",
       "      <td>None</td>\n",
       "      <td>None</td>\n",
       "      <td>None</td>\n",
       "      <td>1.5243097229157616</td>\n",
       "    </tr>\n",
       "    <tr>\n",
       "      <th>2</th>\n",
       "      <td>stddev</td>\n",
       "      <td>None</td>\n",
       "      <td>2.3904572186687882E18</td>\n",
       "      <td>3.1412811174461175</td>\n",
       "      <td>None</td>\n",
       "      <td>18.032686345726244</td>\n",
       "      <td>None</td>\n",
       "      <td>None</td>\n",
       "      <td>None</td>\n",
       "      <td>None</td>\n",
       "      <td>...</td>\n",
       "      <td>None</td>\n",
       "      <td>None</td>\n",
       "      <td>6561.988529932467</td>\n",
       "      <td>2.2967343355214864</td>\n",
       "      <td>145.92085360382134</td>\n",
       "      <td>3.284882208086771</td>\n",
       "      <td>None</td>\n",
       "      <td>None</td>\n",
       "      <td>None</td>\n",
       "      <td>0.8415846545585174</td>\n",
       "    </tr>\n",
       "    <tr>\n",
       "      <th>3</th>\n",
       "      <td>min</td>\n",
       "      <td>WOS:000003907500001</td>\n",
       "      <td></td>\n",
       "      <td></td>\n",
       "      <td>Arabic English</td>\n",
       "      <td>1900</td>\n",
       "      <td>N</td>\n",
       "      <td>Book</td>\n",
       "      <td></td>\n",
       "      <td></td>\n",
       "      <td>...</td>\n",
       "      <td>3',5'-Cyclic-AMP Phosphodiesterases</td>\n",
       "      <td>a plaine and easie waie to remedie a horse   ...</td>\n",
       "      <td>1</td>\n",
       "      <td>0.1</td>\n",
       "      <td>0</td>\n",
       "      <td>0.0</td>\n",
       "      <td>Argentina</td>\n",
       "      <td>\"Instituto San Jose de Calasanz\"\" de Pedagogia...</td>\n",
       "      <td>Accounting (Q1)</td>\n",
       "      <td>1.0</td>\n",
       "    </tr>\n",
       "    <tr>\n",
       "      <th>4</th>\n",
       "      <td>max</td>\n",
       "      <td>WOS:A1998YL55600003</td>\n",
       "      <td>~celtic sea;integrated vms and logbook data;mi...</td>\n",
       "      <td>||The growth characteristics of GaInNAs quantu...</td>\n",
       "      <td>Welsh English</td>\n",
       "      <td>2018</td>\n",
       "      <td>Y</td>\n",
       "      <td>Journal</td>\n",
       "      <td>zoology;zoology</td>\n",
       "      <td>technology;physical sciences;life sciences &amp; b...</td>\n",
       "      <td>...</td>\n",
       "      <td>p-divisible groups.</td>\n",
       "      <td>ʻabbasid studies   occasional papers of the sc...</td>\n",
       "      <td>9999</td>\n",
       "      <td>9.995</td>\n",
       "      <td>99</td>\n",
       "      <td>98.03</td>\n",
       "      <td>Zimbabwe</td>\n",
       "      <td>universitatea de vest</td>\n",
       "      <td>Water Science and Technology (Q4)</td>\n",
       "      <td>4.0</td>\n",
       "    </tr>\n",
       "  </tbody>\n",
       "</table>\n",
       "<p>5 rows × 30 columns</p>\n",
       "</div>"
      ],
      "text/plain": [
       "  summary                  UID  \\\n",
       "0   count             61785079   \n",
       "1    mean                 None   \n",
       "2  stddev                 None   \n",
       "3     min  WOS:000003907500001   \n",
       "4     max  WOS:A1998YL55600003   \n",
       "\n",
       "                                            keywords  \\\n",
       "0                                           61785079   \n",
       "1                             2.85714285714285728E17   \n",
       "2                              2.3904572186687882E18   \n",
       "3                                                      \n",
       "4  ~celtic sea;integrated vms and logbook data;mi...   \n",
       "\n",
       "                                       full_abstract        all_lang  \\\n",
       "0                                           61785079        61785079   \n",
       "1                                  5.352941176470588            None   \n",
       "2                                 3.1412811174461175            None   \n",
       "3                                                     Arabic English   \n",
       "4  ||The growth characteristics of GaInNAs quantu...   Welsh English   \n",
       "\n",
       "              pubyear has_abstract   pubtype         subjects  \\\n",
       "0            61785079     61785079  61785079         61785079   \n",
       "1   1997.029839146115         None      None             None   \n",
       "2  18.032686345726244         None      None             None   \n",
       "3                1900            N      Book                    \n",
       "4                2018            Y   Journal  zoology;zoology   \n",
       "\n",
       "                                         subheadings         ...          \\\n",
       "0                                           61785079         ...           \n",
       "1                                               None         ...           \n",
       "2                                               None         ...           \n",
       "3                                                            ...           \n",
       "4  technology;physical sciences;life sciences & b...         ...           \n",
       "\n",
       "                           loc_subject  \\\n",
       "0                              1797994   \n",
       "1                                 None   \n",
       "2                                 None   \n",
       "3  3',5'-Cyclic-AMP Phosphodiesterases   \n",
       "4                  p-divisible groups.   \n",
       "\n",
       "                                       loc_bare_text             j_rank  \\\n",
       "0                                            1820336           49747057   \n",
       "1                                               None  5443.183626882692   \n",
       "2                                               None  6561.988529932467   \n",
       "3   a plaine and easie waie to remedie a horse   ...                  1   \n",
       "4  ʻabbasid studies   occasional papers of the sc...               9999   \n",
       "\n",
       "                  sjr             h_index  cites__doc_2years    country  \\\n",
       "0            48883810            49747057           49747057   49746574   \n",
       "1    1.56718835182854   130.7008273876382  2.597706033745839       None   \n",
       "2  2.2967343355214864  145.92085360382134  3.284882208086771       None   \n",
       "3                 0.1                   0                0.0  Argentina   \n",
       "4               9.995                  99              98.03   Zimbabwe   \n",
       "\n",
       "                                           publisher  \\\n",
       "0                                           48640202   \n",
       "1                                               None   \n",
       "2                                               None   \n",
       "3  \"Instituto San Jose de Calasanz\"\" de Pedagogia...   \n",
       "4                              universitatea de vest   \n",
       "\n",
       "                          categories          j_quartile  \n",
       "0                           49747057            48078664  \n",
       "1                               None  1.5243097229157616  \n",
       "2                               None  0.8415846545585174  \n",
       "3                    Accounting (Q1)                 1.0  \n",
       "4  Water Science and Technology (Q4)                 4.0  \n",
       "\n",
       "[5 rows x 30 columns]"
      ]
     },
     "execution_count": 29,
     "metadata": {},
     "output_type": "execute_result"
    }
   ],
   "source": [
    "df = wos2.describe().toPandas()\n",
    "df"
   ]
  },
  {
   "cell_type": "code",
   "execution_count": 33,
   "metadata": {},
   "outputs": [
    {
     "data": {
      "text/html": [
       "<div>\n",
       "<style scoped>\n",
       "    .dataframe tbody tr th:only-of-type {\n",
       "        vertical-align: middle;\n",
       "    }\n",
       "\n",
       "    .dataframe tbody tr th {\n",
       "        vertical-align: top;\n",
       "    }\n",
       "\n",
       "    .dataframe thead th {\n",
       "        text-align: right;\n",
       "    }\n",
       "</style>\n",
       "<table border=\"1\" class=\"dataframe\">\n",
       "  <thead>\n",
       "    <tr style=\"text-align: right;\">\n",
       "      <th></th>\n",
       "      <th>0</th>\n",
       "      <th>1</th>\n",
       "      <th>2</th>\n",
       "      <th>3</th>\n",
       "      <th>4</th>\n",
       "    </tr>\n",
       "  </thead>\n",
       "  <tbody>\n",
       "    <tr>\n",
       "      <th>summary</th>\n",
       "      <td>count</td>\n",
       "      <td>mean</td>\n",
       "      <td>stddev</td>\n",
       "      <td>min</td>\n",
       "      <td>max</td>\n",
       "    </tr>\n",
       "    <tr>\n",
       "      <th>UID</th>\n",
       "      <td>61785079</td>\n",
       "      <td>None</td>\n",
       "      <td>None</td>\n",
       "      <td>WOS:000003907500001</td>\n",
       "      <td>WOS:A1998YL55600003</td>\n",
       "    </tr>\n",
       "    <tr>\n",
       "      <th>keywords</th>\n",
       "      <td>61785079</td>\n",
       "      <td>2.85714285714285728E17</td>\n",
       "      <td>2.3904572186687882E18</td>\n",
       "      <td></td>\n",
       "      <td>~celtic sea;integrated vms and logbook data;mi...</td>\n",
       "    </tr>\n",
       "    <tr>\n",
       "      <th>full_abstract</th>\n",
       "      <td>61785079</td>\n",
       "      <td>5.352941176470588</td>\n",
       "      <td>3.1412811174461175</td>\n",
       "      <td></td>\n",
       "      <td>||The growth characteristics of GaInNAs quantu...</td>\n",
       "    </tr>\n",
       "    <tr>\n",
       "      <th>all_lang</th>\n",
       "      <td>61785079</td>\n",
       "      <td>None</td>\n",
       "      <td>None</td>\n",
       "      <td>Arabic English</td>\n",
       "      <td>Welsh English</td>\n",
       "    </tr>\n",
       "    <tr>\n",
       "      <th>pubyear</th>\n",
       "      <td>61785079</td>\n",
       "      <td>1997.029839146115</td>\n",
       "      <td>18.032686345726244</td>\n",
       "      <td>1900</td>\n",
       "      <td>2018</td>\n",
       "    </tr>\n",
       "    <tr>\n",
       "      <th>has_abstract</th>\n",
       "      <td>61785079</td>\n",
       "      <td>None</td>\n",
       "      <td>None</td>\n",
       "      <td>N</td>\n",
       "      <td>Y</td>\n",
       "    </tr>\n",
       "    <tr>\n",
       "      <th>pubtype</th>\n",
       "      <td>61785079</td>\n",
       "      <td>None</td>\n",
       "      <td>None</td>\n",
       "      <td>Book</td>\n",
       "      <td>Journal</td>\n",
       "    </tr>\n",
       "    <tr>\n",
       "      <th>subjects</th>\n",
       "      <td>61785079</td>\n",
       "      <td>None</td>\n",
       "      <td>None</td>\n",
       "      <td></td>\n",
       "      <td>zoology;zoology</td>\n",
       "    </tr>\n",
       "    <tr>\n",
       "      <th>subheadings</th>\n",
       "      <td>61785079</td>\n",
       "      <td>None</td>\n",
       "      <td>None</td>\n",
       "      <td></td>\n",
       "      <td>technology;physical sciences;life sciences &amp; b...</td>\n",
       "    </tr>\n",
       "    <tr>\n",
       "      <th>headings</th>\n",
       "      <td>61785079</td>\n",
       "      <td>None</td>\n",
       "      <td>None</td>\n",
       "      <td></td>\n",
       "      <td>social sciences;science &amp; technology;arts &amp; hu...</td>\n",
       "    </tr>\n",
       "    <tr>\n",
       "      <th>item_title</th>\n",
       "      <td>61785070</td>\n",
       "      <td>Infinity</td>\n",
       "      <td>NaN</td>\n",
       "      <td>! A comparison of cigarette- and hookah-relate...</td>\n",
       "      <td>} Natural Disasters, Armed Conflict, and Publi...</td>\n",
       "    </tr>\n",
       "    <tr>\n",
       "      <th>journal</th>\n",
       "      <td>61785072</td>\n",
       "      <td>None</td>\n",
       "      <td>None</td>\n",
       "      <td>\"DRUNKEN\" SYNAPSE</td>\n",
       "      <td>tm-Technisches Messen</td>\n",
       "    </tr>\n",
       "    <tr>\n",
       "      <th>issn</th>\n",
       "      <td>56756725</td>\n",
       "      <td>None</td>\n",
       "      <td>None</td>\n",
       "      <td>0001-0049</td>\n",
       "      <td>8756-9728</td>\n",
       "    </tr>\n",
       "    <tr>\n",
       "      <th>isbn</th>\n",
       "      <td>4921252</td>\n",
       "      <td>4.897439057428277E12</td>\n",
       "      <td>4.978971399547923E12</td>\n",
       "      <td></td>\n",
       "      <td>or</td>\n",
       "    </tr>\n",
       "    <tr>\n",
       "      <th>eissn</th>\n",
       "      <td>9536166</td>\n",
       "      <td>1.6648838E7</td>\n",
       "      <td>0.0</td>\n",
       "      <td>0001-6446</td>\n",
       "      <td>2976-3425</td>\n",
       "    </tr>\n",
       "    <tr>\n",
       "      <th>eisbn</th>\n",
       "      <td>2614225</td>\n",
       "      <td>9.782332841473889E12</td>\n",
       "      <td>2.5857788093637657E9</td>\n",
       "      <td>*****************</td>\n",
       "      <td>9791220013840</td>\n",
       "    </tr>\n",
       "    <tr>\n",
       "      <th>doi</th>\n",
       "      <td>18480684</td>\n",
       "      <td>13.278193333333332</td>\n",
       "      <td>11.544658222031687</td>\n",
       "      <td>/10.1016/j.jhep.2016.03.003</td>\n",
       "      <td>i:10.1093/humupd/dmt022</td>\n",
       "    </tr>\n",
       "    <tr>\n",
       "      <th>bare_text</th>\n",
       "      <td>61785079</td>\n",
       "      <td>1.5096507800322062E8</td>\n",
       "      <td>3.756230837142985E9</td>\n",
       "      <td></td>\n",
       "      <td>zzzzzzzz   we have to do it every night but no...</td>\n",
       "    </tr>\n",
       "    <tr>\n",
       "      <th>loc_id</th>\n",
       "      <td>1820336</td>\n",
       "      <td>5.2441787655275653E11</td>\n",
       "      <td>4.0964686087079016E11</td>\n",
       "      <td>10002</td>\n",
       "      <td>1726576866168</td>\n",
       "    </tr>\n",
       "    <tr>\n",
       "      <th>loc_subject</th>\n",
       "      <td>1797994</td>\n",
       "      <td>None</td>\n",
       "      <td>None</td>\n",
       "      <td>3',5'-Cyclic-AMP Phosphodiesterases</td>\n",
       "      <td>p-divisible groups.</td>\n",
       "    </tr>\n",
       "    <tr>\n",
       "      <th>loc_bare_text</th>\n",
       "      <td>1820336</td>\n",
       "      <td>None</td>\n",
       "      <td>None</td>\n",
       "      <td>a plaine and easie waie to remedie a horse   ...</td>\n",
       "      <td>ʻabbasid studies   occasional papers of the sc...</td>\n",
       "    </tr>\n",
       "    <tr>\n",
       "      <th>j_rank</th>\n",
       "      <td>49747057</td>\n",
       "      <td>5443.183626882692</td>\n",
       "      <td>6561.988529932467</td>\n",
       "      <td>1</td>\n",
       "      <td>9999</td>\n",
       "    </tr>\n",
       "    <tr>\n",
       "      <th>sjr</th>\n",
       "      <td>48883810</td>\n",
       "      <td>1.56718835182854</td>\n",
       "      <td>2.2967343355214864</td>\n",
       "      <td>0.1</td>\n",
       "      <td>9.995</td>\n",
       "    </tr>\n",
       "    <tr>\n",
       "      <th>h_index</th>\n",
       "      <td>49747057</td>\n",
       "      <td>130.7008273876382</td>\n",
       "      <td>145.92085360382134</td>\n",
       "      <td>0</td>\n",
       "      <td>99</td>\n",
       "    </tr>\n",
       "    <tr>\n",
       "      <th>cites__doc_2years</th>\n",
       "      <td>49747057</td>\n",
       "      <td>2.597706033745839</td>\n",
       "      <td>3.284882208086771</td>\n",
       "      <td>0.0</td>\n",
       "      <td>98.03</td>\n",
       "    </tr>\n",
       "    <tr>\n",
       "      <th>country</th>\n",
       "      <td>49746574</td>\n",
       "      <td>None</td>\n",
       "      <td>None</td>\n",
       "      <td>Argentina</td>\n",
       "      <td>Zimbabwe</td>\n",
       "    </tr>\n",
       "    <tr>\n",
       "      <th>publisher</th>\n",
       "      <td>48640202</td>\n",
       "      <td>None</td>\n",
       "      <td>None</td>\n",
       "      <td>\"Instituto San Jose de Calasanz\"\" de Pedagogia...</td>\n",
       "      <td>universitatea de vest</td>\n",
       "    </tr>\n",
       "    <tr>\n",
       "      <th>categories</th>\n",
       "      <td>49747057</td>\n",
       "      <td>None</td>\n",
       "      <td>None</td>\n",
       "      <td>Accounting (Q1)</td>\n",
       "      <td>Water Science and Technology (Q4)</td>\n",
       "    </tr>\n",
       "    <tr>\n",
       "      <th>j_quartile</th>\n",
       "      <td>48078664</td>\n",
       "      <td>1.5243097229157616</td>\n",
       "      <td>0.8415846545585174</td>\n",
       "      <td>1.0</td>\n",
       "      <td>4.0</td>\n",
       "    </tr>\n",
       "  </tbody>\n",
       "</table>\n",
       "</div>"
      ],
      "text/plain": [
       "                          0                       1                      2  \\\n",
       "summary               count                    mean                 stddev   \n",
       "UID                61785079                    None                   None   \n",
       "keywords           61785079  2.85714285714285728E17  2.3904572186687882E18   \n",
       "full_abstract      61785079       5.352941176470588     3.1412811174461175   \n",
       "all_lang           61785079                    None                   None   \n",
       "pubyear            61785079       1997.029839146115     18.032686345726244   \n",
       "has_abstract       61785079                    None                   None   \n",
       "pubtype            61785079                    None                   None   \n",
       "subjects           61785079                    None                   None   \n",
       "subheadings        61785079                    None                   None   \n",
       "headings           61785079                    None                   None   \n",
       "item_title         61785070                Infinity                    NaN   \n",
       "journal            61785072                    None                   None   \n",
       "issn               56756725                    None                   None   \n",
       "isbn                4921252    4.897439057428277E12   4.978971399547923E12   \n",
       "eissn               9536166             1.6648838E7                    0.0   \n",
       "eisbn               2614225    9.782332841473889E12   2.5857788093637657E9   \n",
       "doi                18480684      13.278193333333332     11.544658222031687   \n",
       "bare_text          61785079    1.5096507800322062E8    3.756230837142985E9   \n",
       "loc_id              1820336   5.2441787655275653E11  4.0964686087079016E11   \n",
       "loc_subject         1797994                    None                   None   \n",
       "loc_bare_text       1820336                    None                   None   \n",
       "j_rank             49747057       5443.183626882692      6561.988529932467   \n",
       "sjr                48883810        1.56718835182854     2.2967343355214864   \n",
       "h_index            49747057       130.7008273876382     145.92085360382134   \n",
       "cites__doc_2years  49747057       2.597706033745839      3.284882208086771   \n",
       "country            49746574                    None                   None   \n",
       "publisher          48640202                    None                   None   \n",
       "categories         49747057                    None                   None   \n",
       "j_quartile         48078664      1.5243097229157616     0.8415846545585174   \n",
       "\n",
       "                                                                   3  \\\n",
       "summary                                                          min   \n",
       "UID                                              WOS:000003907500001   \n",
       "keywords                                                               \n",
       "full_abstract                                                          \n",
       "all_lang                                              Arabic English   \n",
       "pubyear                                                         1900   \n",
       "has_abstract                                                       N   \n",
       "pubtype                                                         Book   \n",
       "subjects                                                               \n",
       "subheadings                                                            \n",
       "headings                                                               \n",
       "item_title         ! A comparison of cigarette- and hookah-relate...   \n",
       "journal                                            \"DRUNKEN\" SYNAPSE   \n",
       "issn                                                       0001-0049   \n",
       "isbn                                                                   \n",
       "eissn                                                      0001-6446   \n",
       "eisbn                                              *****************   \n",
       "doi                                      /10.1016/j.jhep.2016.03.003   \n",
       "bare_text                                                              \n",
       "loc_id                                                         10002   \n",
       "loc_subject                      3',5'-Cyclic-AMP Phosphodiesterases   \n",
       "loc_bare_text       a plaine and easie waie to remedie a horse   ...   \n",
       "j_rank                                                             1   \n",
       "sjr                                                              0.1   \n",
       "h_index                                                            0   \n",
       "cites__doc_2years                                                0.0   \n",
       "country                                                    Argentina   \n",
       "publisher          \"Instituto San Jose de Calasanz\"\" de Pedagogia...   \n",
       "categories                                           Accounting (Q1)   \n",
       "j_quartile                                                       1.0   \n",
       "\n",
       "                                                                   4  \n",
       "summary                                                          max  \n",
       "UID                                              WOS:A1998YL55600003  \n",
       "keywords           ~celtic sea;integrated vms and logbook data;mi...  \n",
       "full_abstract      ||The growth characteristics of GaInNAs quantu...  \n",
       "all_lang                                               Welsh English  \n",
       "pubyear                                                         2018  \n",
       "has_abstract                                                       Y  \n",
       "pubtype                                                      Journal  \n",
       "subjects                                             zoology;zoology  \n",
       "subheadings        technology;physical sciences;life sciences & b...  \n",
       "headings           social sciences;science & technology;arts & hu...  \n",
       "item_title         } Natural Disasters, Armed Conflict, and Publi...  \n",
       "journal                                        tm-Technisches Messen  \n",
       "issn                                                       8756-9728  \n",
       "isbn                                                              or  \n",
       "eissn                                                      2976-3425  \n",
       "eisbn                                                  9791220013840  \n",
       "doi                                          i:10.1093/humupd/dmt022  \n",
       "bare_text          zzzzzzzz   we have to do it every night but no...  \n",
       "loc_id                                                 1726576866168  \n",
       "loc_subject                                      p-divisible groups.  \n",
       "loc_bare_text      ʻabbasid studies   occasional papers of the sc...  \n",
       "j_rank                                                          9999  \n",
       "sjr                                                            9.995  \n",
       "h_index                                                           99  \n",
       "cites__doc_2years                                              98.03  \n",
       "country                                                     Zimbabwe  \n",
       "publisher                                      universitatea de vest  \n",
       "categories                         Water Science and Technology (Q4)  \n",
       "j_quartile                                                       4.0  "
      ]
     },
     "execution_count": 33,
     "metadata": {},
     "output_type": "execute_result"
    }
   ],
   "source": [
    "df.T"
   ]
  },
  {
   "cell_type": "code",
   "execution_count": null,
   "metadata": {},
   "outputs": [],
   "source": []
  }
 ],
 "metadata": {
  "kernelspec": {
   "display_name": "Python 3",
   "language": "python",
   "name": "python3"
  },
  "language_info": {
   "codemirror_mode": {
    "name": "ipython",
    "version": 2
   },
   "file_extension": ".py",
   "mimetype": "text/x-python",
   "name": "python",
   "nbconvert_exporter": "python",
   "pygments_lexer": "ipython2",
   "version": "2.7.5"
  }
 },
 "nbformat": 4,
 "nbformat_minor": 2
}
