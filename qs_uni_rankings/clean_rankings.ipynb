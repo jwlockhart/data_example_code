{
 "cells": [
  {
   "cell_type": "markdown",
   "id": "e3a02321-538e-4451-a902-dff303652770",
   "metadata": {},
   "source": [
    "# clean rankings\n",
    "This code converts the downloaded html pages with subject-specific QS World University Rankings into nice clean tabular data."
   ]
  },
  {
   "cell_type": "code",
   "execution_count": null,
   "id": "f8c5c871-35af-4b33-b7c6-d2645bd64e3b",
   "metadata": {},
   "outputs": [],
   "source": [
    "from bs4 import BeautifulSoup\n",
    "import pandas as pd\n",
    "import os\n",
    "from tqdm import tqdm"
   ]
  },
  {
   "cell_type": "code",
   "execution_count": null,
   "id": "8720b3c1-2446-42e3-a05d-9139da3882ce",
   "metadata": {},
   "outputs": [],
   "source": [
    "files = os.listdir('rankings')\n",
    "len(files)"
   ]
  },
  {
   "cell_type": "code",
   "execution_count": null,
   "id": "dd183139-c970-4921-8441-26dbd6a0675f",
   "metadata": {},
   "outputs": [],
   "source": [
    "data = []\n",
    "for f in tqdm(files):\n",
    "    if f.endswith('.html'):\n",
    "        #read html\n",
    "        with open('rankings/'+f, 'r') as o:\n",
    "            soup = BeautifulSoup(o.read(), 'html.parser')\n",
    "            \n",
    "        # get field name\n",
    "        field = f.split('_')[1]\n",
    "            \n",
    "        #select the right table\n",
    "        soup = soup.find(id='indicator-tab')\n",
    "        \n",
    "        #select the rows of our table\n",
    "        rows = soup.find_all(\"div\", class_=\"row ind-row\")\n",
    "\n",
    "        #check for pages that didn't load before they were saved. You'll want to redownload these\n",
    "        if len(rows) ==0:\n",
    "            print(field, \"has no rows for one page\")\n",
    "            \n",
    "        #iterate through the pages\n",
    "        for r in rows:\n",
    "            tmp = dict()\n",
    "            try:\n",
    "                tmp['name'] = r.find('a', class_='uni-link').text.strip()  \n",
    "                tmp['field'] = field\n",
    "                tmp['rank'] = r.find('div', class_='_univ-rank').text.strip()        \n",
    "                tmp['overall'] = r.find('div', class_='overall-score-span-ind overall').text.strip()        \n",
    "                tmp['h_index'] = r.find('div', class_='overall-score-span-ind ind_69').text.strip()        \n",
    "                tmp['cites_per_paper'] = r.find('div', class_='overall-score-span-ind ind_70').text.strip()        \n",
    "                tmp['academic_rep'] = r.find('div', class_='overall-score-span-ind ind_76').text.strip()        \n",
    "                tmp['employer_rep'] = r.find('div', class_='overall-score-span-ind ind_77').text.strip()\n",
    "            except:\n",
    "                #uninformative warning that the HTML got garbled\n",
    "                print('row failed')\n",
    "\n",
    "            data.append(tmp)"
   ]
  },
  {
   "cell_type": "code",
   "execution_count": null,
   "id": "bff63c7a-f8c7-40f8-b514-8265118c1d6a",
   "metadata": {},
   "outputs": [],
   "source": [
    "# make a dataframe\n",
    "data = pd.DataFrame(data)\n",
    "data.shape"
   ]
  },
  {
   "cell_type": "code",
   "execution_count": null,
   "id": "35d90a10-11e9-4428-8a14-b6f68d7eac1b",
   "metadata": {},
   "outputs": [],
   "source": [
    "data.head()"
   ]
  },
  {
   "cell_type": "code",
   "execution_count": null,
   "id": "9571b99d-bd7c-444d-bb5a-3f9aa79c4500",
   "metadata": {},
   "outputs": [],
   "source": [
    "# make the numbers into numbers\n",
    "ncols = ['overall', 'h_index', 'cites_per_paper', 'academic_rep', 'employer_rep']\n",
    "for c in ncols:\n",
    "    data[c] = pd.to_numeric(data[c], downcast='float')\n",
    "data.dtypes"
   ]
  },
  {
   "cell_type": "code",
   "execution_count": null,
   "id": "2948267d-a9d1-43a4-82d8-6e7a8e928614",
   "metadata": {},
   "outputs": [],
   "source": [
    "#save the result as a tab separated file. (excel etc. can open these)\n",
    "data.to_csv('uni_rank_by_field.tsv', sep='\\t', index=False)"
   ]
  },
  {
   "cell_type": "code",
   "execution_count": null,
   "id": "6aa9d0bb-2515-43fa-a13c-8e42a325d821",
   "metadata": {},
   "outputs": [],
   "source": []
  },
  {
   "cell_type": "code",
   "execution_count": null,
   "id": "f87662d3-a861-46f3-a4a2-62645d9d1512",
   "metadata": {},
   "outputs": [],
   "source": []
  },
  {
   "cell_type": "code",
   "execution_count": null,
   "id": "d0b6cea7-f8f7-4100-aff2-0df528f6ab13",
   "metadata": {},
   "outputs": [],
   "source": []
  }
 ],
 "metadata": {
  "kernelspec": {
   "display_name": "Python 3 (ipykernel)",
   "language": "python",
   "name": "python3"
  },
  "language_info": {
   "codemirror_mode": {
    "name": "ipython",
    "version": 3
   },
   "file_extension": ".py",
   "mimetype": "text/x-python",
   "name": "python",
   "nbconvert_exporter": "python",
   "pygments_lexer": "ipython3",
   "version": "3.8.10"
  }
 },
 "nbformat": 4,
 "nbformat_minor": 5
}
