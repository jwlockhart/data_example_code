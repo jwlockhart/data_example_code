{
 "cells": [
  {
   "cell_type": "markdown",
   "id": "18487ef1-4e88-444d-8c74-48e5023f5776",
   "metadata": {},
   "source": [
    "# download rankings\n",
    "This code scrapes and downloads subject-specific QS World University Rankings. It saves HTML pages that another ipynb file converts to a nice table. \n",
    "\n",
    "Methodology for the rankings:\n",
    "- https://www.topuniversities.com/subject-rankings/methodology\n",
    "- http://www.iu.qs.com/university-rankings/subject-tables/\n",
    "\n",
    "Disclaimers: \n",
    "- Rankings are dubious measures of quality and they get used in unethical ways. They can be useful for studying prestiege and inequality tho, e.g. some folks have shown they correlate strongly with faculty hiring.\n",
    "- I don't own this data. QS makes it free & public. I just offer this to help people put it in a nice format for statistical use. \n",
    "    - If you represent QS and you want this taken down, just send me an email.\n",
    "- They might change their website and break this code. No promises I'll update the code if that happens. "
   ]
  },
  {
   "cell_type": "code",
   "execution_count": null,
   "id": "c0b409fa-0970-4f08-b9d2-8c1ccfd798d6",
   "metadata": {},
   "outputs": [],
   "source": [
    "from selenium import webdriver\n",
    "from selenium.webdriver.common.by import By\n",
    "from selenium.webdriver.support.ui import WebDriverWait\n",
    "from selenium.webdriver.support import expected_conditions as EC\n",
    "from selenium.webdriver.common.keys import Keys\n",
    "from selenium.common.exceptions import NoSuchElementException\n",
    "import time\n",
    "from tqdm import tqdm"
   ]
  },
  {
   "cell_type": "markdown",
   "id": "5eab1f00-6145-49ec-b7e4-a690d3d2a61b",
   "metadata": {},
   "source": [
    "### First, get the list of subject links"
   ]
  },
  {
   "cell_type": "code",
   "execution_count": null,
   "id": "42b48678-aeb3-41de-809f-69d1c6545239",
   "metadata": {},
   "outputs": [],
   "source": [
    "driver = webdriver.Firefox()"
   ]
  },
  {
   "cell_type": "code",
   "execution_count": null,
   "id": "aaafd70d-5c09-4c7a-8b16-f8d2e02f5764",
   "metadata": {},
   "outputs": [],
   "source": [
    "base_url = 'https://www.topuniversities.com'"
   ]
  },
  {
   "cell_type": "code",
   "execution_count": null,
   "id": "f5b988e1-089a-4a6f-8aca-1457c6c62c49",
   "metadata": {},
   "outputs": [],
   "source": [
    "driver.get(\"https://www.topuniversities.com/university-rankings/university-subject-rankings/2021/arts-humanities#university-rankings-indicators\")\n"
   ]
  },
  {
   "cell_type": "code",
   "execution_count": null,
   "id": "9a7bbd5d-8964-43df-9d57-4132d4b131d1",
   "metadata": {},
   "outputs": [],
   "source": [
    "#select the subject list\n",
    "cn = 'f-field-2 margin-right-24px subject width268px position-relative qsrankingsubject-realdiv'\n",
    "cn = '.'+cn.replace(' ', '.')\n",
    "elem = driver.find_element_by_css_selector(cn)\n",
    "\n",
    "#get the list of subjects\n",
    "#cn = 'menu transition hidden'\n",
    "cn = 'menu'\n",
    "cn = '.'+cn.replace(' ', '.')\n",
    "elem = elem.find_element_by_css_selector(cn)\n",
    "\n",
    "#get the links for subjects\n",
    "tmp = elem.find_elements_by_class_name('item')\n",
    "subject_links = []\n",
    "for l in tmp:\n",
    "    subject_links.append(l.get_attribute('data-value'))\n",
    "    \n",
    "subject_links"
   ]
  },
  {
   "cell_type": "code",
   "execution_count": null,
   "id": "da01ecc9-d671-439a-b451-9d663615ad12",
   "metadata": {},
   "outputs": [],
   "source": [
    "# if you need to re-do some of the subjects\n",
    "manual_subject_links = [\n",
    "    '/university-rankings/university-subject-rankings/2021/sociology',\n",
    "    '/university-rankings/university-subject-rankings/2021/social-sciences-management',\n",
    "]"
   ]
  },
  {
   "cell_type": "markdown",
   "id": "8e895201-ed9a-4d63-a075-c9c7bd7904d1",
   "metadata": {},
   "source": [
    "### Second, scrape the actual pages."
   ]
  },
  {
   "cell_type": "code",
   "execution_count": null,
   "id": "9ef78923-fa0a-4e1b-9c9c-7a8e5aa277c4",
   "metadata": {},
   "outputs": [],
   "source": [
    "driver = webdriver.Firefox()"
   ]
  },
  {
   "cell_type": "code",
   "execution_count": null,
   "id": "fbd6c2cb-4ae1-4c70-a9c5-d9a4d8295ddf",
   "metadata": {},
   "outputs": [],
   "source": [
    "#for l in tqdm(manual_subject_links):\n",
    "\n",
    "for l in tqdm(subject_links):\n",
    "    driver.get(base_url+l)\n",
    "    time.sleep(1)\n",
    "    \n",
    "    #get field names\n",
    "    field = l.split('/')[-1]\n",
    "    print(field)\n",
    "    \n",
    "    # tab to detailed ranking data\n",
    "    cn = 'nav-link quicktabs-tab-rankings_tabs-1 add_padding quick-navsj'\n",
    "    cn = '.'+cn.replace(' ', '.')\n",
    "    driver.find_element_by_css_selector(cn).click()\n",
    "    time.sleep(2)\n",
    "    \n",
    "    # more results per page\n",
    "    try:\n",
    "        element = WebDriverWait(driver, 30).until(\n",
    "            EC.presence_of_element_located((By.CSS_SELECTOR, \".dropdown.icon\"))\n",
    "        )\n",
    "    except:\n",
    "        print('error')\n",
    "        driver.quit()\n",
    "    \n",
    "    cn = 'row mt-3 perpagedata_d-none_js results_perpage_data'\n",
    "    cn = '.'+cn.replace(' ', '.')\n",
    "    elem = driver.find_element_by_css_selector(cn)\n",
    "\n",
    "    cn = 'dropdown icon'\n",
    "    cn = '.'+cn.replace(' ', '.')\n",
    "    elem.find_element_by_css_selector(cn).click()\n",
    "    time.sleep(1)\n",
    "\n",
    "    elems = elem.find_elements_by_class_name('item')\n",
    "    for e in elems:\n",
    "        if e.text == '100':\n",
    "            e.click()\n",
    "            time.sleep(5)          \n",
    "            \n",
    "    # tab through pages\n",
    "    more_pages = True\n",
    "    page = 1\n",
    "    while more_pages:\n",
    "        # save page\n",
    "        \n",
    "        try:\n",
    "            element = WebDriverWait(driver, 30).until(\n",
    "                EC.presence_of_element_located((By.CLASS_NAME, \"uni-link\"))\n",
    "            )\n",
    "        except:\n",
    "            print('error')\n",
    "            driver.quit()\n",
    "        \n",
    "        time.sleep(5)\n",
    "        with open('rankings/source_'+field+'_'+str(page)+'.html', 'w') as o:\n",
    "            o.write(driver.page_source)\n",
    "        \n",
    "        #advance to next page\n",
    "        try:\n",
    "            cn = 'page-link next'\n",
    "            cn = '.'+cn.replace(' ', '.')\n",
    "            driver.find_element_by_css_selector(cn).click()\n",
    "            page += 1\n",
    "        except NoSuchElementException:\n",
    "            break"
   ]
  },
  {
   "cell_type": "code",
   "execution_count": null,
   "id": "925df7bd-1a6d-4fc0-8510-41c28a091fea",
   "metadata": {},
   "outputs": [],
   "source": []
  }
 ],
 "metadata": {
  "kernelspec": {
   "display_name": "Python 3 (ipykernel)",
   "language": "python",
   "name": "python3"
  },
  "language_info": {
   "codemirror_mode": {
    "name": "ipython",
    "version": 3
   },
   "file_extension": ".py",
   "mimetype": "text/x-python",
   "name": "python",
   "nbconvert_exporter": "python",
   "pygments_lexer": "ipython3",
   "version": "3.8.10"
  }
 },
 "nbformat": 4,
 "nbformat_minor": 5
}
